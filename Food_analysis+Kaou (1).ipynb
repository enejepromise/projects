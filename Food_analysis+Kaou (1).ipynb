{
  "cells": [
    {
      "cell_type": "markdown",
      "id": "4b476a39",
      "metadata": {
        "id": "4b476a39"
      },
      "source": [
        "# Amazon Business Research Analyst Dataset\n",
        "\n",
        "Objectives\n",
        "1.\tWhat food customers like the most\n",
        "2.\tDoes weather influence what people eat\n",
        "3.\tWhat is the preferred mode of transportation used by the restaurant \n",
        "4.\tWhat time do people pick their orders most?\n",
        "5.\tWhich days are the busiest in the restaurant [which days do customers visit the restaurant the most]\n",
        "\n",
        "\n",
        "Machine learning scenario:\n",
        "\n",
        "Mrs Ndidi ordered meals at the amazon restaurant on Thursday morning. Predict how long before she received her order if the delivery man used motorcycle bearing in mind that the customer  stays 9.760928 km away from the restaurant?\n",
        "\n",
        "\n"
      ]
    },
    {
      "cell_type": "code",
      "execution_count": 1,
      "id": "20d18682",
      "metadata": {
        "id": "20d18682"
      },
      "outputs": [],
      "source": [
        "import pandas as pd\n",
        "import numpy as np\n",
        "import matplotlib.pyplot as plt"
      ]
    },
    {
      "cell_type": "code",
      "execution_count": 4,
      "id": "9f9572d6",
      "metadata": {
        "colab": {
          "base_uri": "https://localhost:8080/",
          "height": 270
        },
        "id": "9f9572d6",
        "outputId": "a2365c0e-cb32-4e4b-afd4-5f7a2c5e0ef8"
      },
      "outputs": [
        {
          "output_type": "execute_result",
          "data": {
            "text/plain": [
              "       ID Delivery_person_ID  Delivery_person_Age  Delivery_person_Ratings  \\\n",
              "0  0x2318    COIMBRES13DEL01                  NaN                      NaN   \n",
              "1  0x3474     BANGRES15DEL01                 28.0                      4.6   \n",
              "2  0x9420      JAPRES09DEL03                 23.0                      4.5   \n",
              "3  0x72ee      JAPRES07DEL03                 21.0                      4.8   \n",
              "4  0xa759     CHENRES19DEL01                 31.0                      4.6   \n",
              "\n",
              "   Restaurant_latitude  Restaurant_longitude  Delivery_location_latitude  \\\n",
              "0            11.003669             76.976494                   11.043669   \n",
              "1            12.975377             77.696664                   13.085377   \n",
              "2            26.911378             75.789034                   27.001378   \n",
              "3            26.766536             75.837333                   26.856536   \n",
              "4            12.986047             80.218114                   13.096047   \n",
              "\n",
              "   Delivery_location_longitude  Order_Date Time_Orderd Time_Order_picked  \\\n",
              "0                    77.016494  30-03-2022         NaN             15:05   \n",
              "1                    77.806664  29-03-2022       20:30             20:35   \n",
              "2                    75.879034  10-03-2022       19:35             19:45   \n",
              "3                    75.927333  02-04-2022       17:15             17:20   \n",
              "4                    80.328114  27-03-2022       18:25             18:40   \n",
              "\n",
              "  Weather Road_traffic_density  Vehicle_condition Type_of_order  \\\n",
              "0     NaN                  NaN                  3        Drinks   \n",
              "1   Windy                  Jam                  0         Snack   \n",
              "2  Stormy                  Jam                  0        Drinks   \n",
              "3     Fog               Medium                  1          Meal   \n",
              "4   Sunny               Medium                  2        Drinks   \n",
              "\n",
              "    Type_of_vehicle  multiple_deliveries Festival           City   Name:  \n",
              "0  electric_scooter                  1.0       No  Metropolitian  object  \n",
              "1        motorcycle                  1.0       No  Metropolitian  object  \n",
              "2        motorcycle                  1.0       No  Metropolitian  object  \n",
              "3           scooter                  1.0       No  Metropolitian  object  \n",
              "4           scooter                  1.0       No  Metropolitian  object  "
            ],
            "text/html": [
              "\n",
              "  <div id=\"df-63c25f27-4476-445e-8079-cb7ffb2a7f7d\">\n",
              "    <div class=\"colab-df-container\">\n",
              "      <div>\n",
              "<style scoped>\n",
              "    .dataframe tbody tr th:only-of-type {\n",
              "        vertical-align: middle;\n",
              "    }\n",
              "\n",
              "    .dataframe tbody tr th {\n",
              "        vertical-align: top;\n",
              "    }\n",
              "\n",
              "    .dataframe thead th {\n",
              "        text-align: right;\n",
              "    }\n",
              "</style>\n",
              "<table border=\"1\" class=\"dataframe\">\n",
              "  <thead>\n",
              "    <tr style=\"text-align: right;\">\n",
              "      <th></th>\n",
              "      <th>ID</th>\n",
              "      <th>Delivery_person_ID</th>\n",
              "      <th>Delivery_person_Age</th>\n",
              "      <th>Delivery_person_Ratings</th>\n",
              "      <th>Restaurant_latitude</th>\n",
              "      <th>Restaurant_longitude</th>\n",
              "      <th>Delivery_location_latitude</th>\n",
              "      <th>Delivery_location_longitude</th>\n",
              "      <th>Order_Date</th>\n",
              "      <th>Time_Orderd</th>\n",
              "      <th>Time_Order_picked</th>\n",
              "      <th>Weather</th>\n",
              "      <th>Road_traffic_density</th>\n",
              "      <th>Vehicle_condition</th>\n",
              "      <th>Type_of_order</th>\n",
              "      <th>Type_of_vehicle</th>\n",
              "      <th>multiple_deliveries</th>\n",
              "      <th>Festival</th>\n",
              "      <th>City</th>\n",
              "      <th>Name:</th>\n",
              "    </tr>\n",
              "  </thead>\n",
              "  <tbody>\n",
              "    <tr>\n",
              "      <th>0</th>\n",
              "      <td>0x2318</td>\n",
              "      <td>COIMBRES13DEL01</td>\n",
              "      <td>NaN</td>\n",
              "      <td>NaN</td>\n",
              "      <td>11.003669</td>\n",
              "      <td>76.976494</td>\n",
              "      <td>11.043669</td>\n",
              "      <td>77.016494</td>\n",
              "      <td>30-03-2022</td>\n",
              "      <td>NaN</td>\n",
              "      <td>15:05</td>\n",
              "      <td>NaN</td>\n",
              "      <td>NaN</td>\n",
              "      <td>3</td>\n",
              "      <td>Drinks</td>\n",
              "      <td>electric_scooter</td>\n",
              "      <td>1.0</td>\n",
              "      <td>No</td>\n",
              "      <td>Metropolitian</td>\n",
              "      <td>object</td>\n",
              "    </tr>\n",
              "    <tr>\n",
              "      <th>1</th>\n",
              "      <td>0x3474</td>\n",
              "      <td>BANGRES15DEL01</td>\n",
              "      <td>28.0</td>\n",
              "      <td>4.6</td>\n",
              "      <td>12.975377</td>\n",
              "      <td>77.696664</td>\n",
              "      <td>13.085377</td>\n",
              "      <td>77.806664</td>\n",
              "      <td>29-03-2022</td>\n",
              "      <td>20:30</td>\n",
              "      <td>20:35</td>\n",
              "      <td>Windy</td>\n",
              "      <td>Jam</td>\n",
              "      <td>0</td>\n",
              "      <td>Snack</td>\n",
              "      <td>motorcycle</td>\n",
              "      <td>1.0</td>\n",
              "      <td>No</td>\n",
              "      <td>Metropolitian</td>\n",
              "      <td>object</td>\n",
              "    </tr>\n",
              "    <tr>\n",
              "      <th>2</th>\n",
              "      <td>0x9420</td>\n",
              "      <td>JAPRES09DEL03</td>\n",
              "      <td>23.0</td>\n",
              "      <td>4.5</td>\n",
              "      <td>26.911378</td>\n",
              "      <td>75.789034</td>\n",
              "      <td>27.001378</td>\n",
              "      <td>75.879034</td>\n",
              "      <td>10-03-2022</td>\n",
              "      <td>19:35</td>\n",
              "      <td>19:45</td>\n",
              "      <td>Stormy</td>\n",
              "      <td>Jam</td>\n",
              "      <td>0</td>\n",
              "      <td>Drinks</td>\n",
              "      <td>motorcycle</td>\n",
              "      <td>1.0</td>\n",
              "      <td>No</td>\n",
              "      <td>Metropolitian</td>\n",
              "      <td>object</td>\n",
              "    </tr>\n",
              "    <tr>\n",
              "      <th>3</th>\n",
              "      <td>0x72ee</td>\n",
              "      <td>JAPRES07DEL03</td>\n",
              "      <td>21.0</td>\n",
              "      <td>4.8</td>\n",
              "      <td>26.766536</td>\n",
              "      <td>75.837333</td>\n",
              "      <td>26.856536</td>\n",
              "      <td>75.927333</td>\n",
              "      <td>02-04-2022</td>\n",
              "      <td>17:15</td>\n",
              "      <td>17:20</td>\n",
              "      <td>Fog</td>\n",
              "      <td>Medium</td>\n",
              "      <td>1</td>\n",
              "      <td>Meal</td>\n",
              "      <td>scooter</td>\n",
              "      <td>1.0</td>\n",
              "      <td>No</td>\n",
              "      <td>Metropolitian</td>\n",
              "      <td>object</td>\n",
              "    </tr>\n",
              "    <tr>\n",
              "      <th>4</th>\n",
              "      <td>0xa759</td>\n",
              "      <td>CHENRES19DEL01</td>\n",
              "      <td>31.0</td>\n",
              "      <td>4.6</td>\n",
              "      <td>12.986047</td>\n",
              "      <td>80.218114</td>\n",
              "      <td>13.096047</td>\n",
              "      <td>80.328114</td>\n",
              "      <td>27-03-2022</td>\n",
              "      <td>18:25</td>\n",
              "      <td>18:40</td>\n",
              "      <td>Sunny</td>\n",
              "      <td>Medium</td>\n",
              "      <td>2</td>\n",
              "      <td>Drinks</td>\n",
              "      <td>scooter</td>\n",
              "      <td>1.0</td>\n",
              "      <td>No</td>\n",
              "      <td>Metropolitian</td>\n",
              "      <td>object</td>\n",
              "    </tr>\n",
              "  </tbody>\n",
              "</table>\n",
              "</div>\n",
              "      <button class=\"colab-df-convert\" onclick=\"convertToInteractive('df-63c25f27-4476-445e-8079-cb7ffb2a7f7d')\"\n",
              "              title=\"Convert this dataframe to an interactive table.\"\n",
              "              style=\"display:none;\">\n",
              "        \n",
              "  <svg xmlns=\"http://www.w3.org/2000/svg\" height=\"24px\"viewBox=\"0 0 24 24\"\n",
              "       width=\"24px\">\n",
              "    <path d=\"M0 0h24v24H0V0z\" fill=\"none\"/>\n",
              "    <path d=\"M18.56 5.44l.94 2.06.94-2.06 2.06-.94-2.06-.94-.94-2.06-.94 2.06-2.06.94zm-11 1L8.5 8.5l.94-2.06 2.06-.94-2.06-.94L8.5 2.5l-.94 2.06-2.06.94zm10 10l.94 2.06.94-2.06 2.06-.94-2.06-.94-.94-2.06-.94 2.06-2.06.94z\"/><path d=\"M17.41 7.96l-1.37-1.37c-.4-.4-.92-.59-1.43-.59-.52 0-1.04.2-1.43.59L10.3 9.45l-7.72 7.72c-.78.78-.78 2.05 0 2.83L4 21.41c.39.39.9.59 1.41.59.51 0 1.02-.2 1.41-.59l7.78-7.78 2.81-2.81c.8-.78.8-2.07 0-2.86zM5.41 20L4 18.59l7.72-7.72 1.47 1.35L5.41 20z\"/>\n",
              "  </svg>\n",
              "      </button>\n",
              "      \n",
              "  <style>\n",
              "    .colab-df-container {\n",
              "      display:flex;\n",
              "      flex-wrap:wrap;\n",
              "      gap: 12px;\n",
              "    }\n",
              "\n",
              "    .colab-df-convert {\n",
              "      background-color: #E8F0FE;\n",
              "      border: none;\n",
              "      border-radius: 50%;\n",
              "      cursor: pointer;\n",
              "      display: none;\n",
              "      fill: #1967D2;\n",
              "      height: 32px;\n",
              "      padding: 0 0 0 0;\n",
              "      width: 32px;\n",
              "    }\n",
              "\n",
              "    .colab-df-convert:hover {\n",
              "      background-color: #E2EBFA;\n",
              "      box-shadow: 0px 1px 2px rgba(60, 64, 67, 0.3), 0px 1px 3px 1px rgba(60, 64, 67, 0.15);\n",
              "      fill: #174EA6;\n",
              "    }\n",
              "\n",
              "    [theme=dark] .colab-df-convert {\n",
              "      background-color: #3B4455;\n",
              "      fill: #D2E3FC;\n",
              "    }\n",
              "\n",
              "    [theme=dark] .colab-df-convert:hover {\n",
              "      background-color: #434B5C;\n",
              "      box-shadow: 0px 1px 3px 1px rgba(0, 0, 0, 0.15);\n",
              "      filter: drop-shadow(0px 1px 2px rgba(0, 0, 0, 0.3));\n",
              "      fill: #FFFFFF;\n",
              "    }\n",
              "  </style>\n",
              "\n",
              "      <script>\n",
              "        const buttonEl =\n",
              "          document.querySelector('#df-63c25f27-4476-445e-8079-cb7ffb2a7f7d button.colab-df-convert');\n",
              "        buttonEl.style.display =\n",
              "          google.colab.kernel.accessAllowed ? 'block' : 'none';\n",
              "\n",
              "        async function convertToInteractive(key) {\n",
              "          const element = document.querySelector('#df-63c25f27-4476-445e-8079-cb7ffb2a7f7d');\n",
              "          const dataTable =\n",
              "            await google.colab.kernel.invokeFunction('convertToInteractive',\n",
              "                                                     [key], {});\n",
              "          if (!dataTable) return;\n",
              "\n",
              "          const docLinkHtml = 'Like what you see? Visit the ' +\n",
              "            '<a target=\"_blank\" href=https://colab.research.google.com/notebooks/data_table.ipynb>data table notebook</a>'\n",
              "            + ' to learn more about interactive tables.';\n",
              "          element.innerHTML = '';\n",
              "          dataTable['output_type'] = 'display_data';\n",
              "          await google.colab.output.renderOutput(dataTable, element);\n",
              "          const docLink = document.createElement('div');\n",
              "          docLink.innerHTML = docLinkHtml;\n",
              "          element.appendChild(docLink);\n",
              "        }\n",
              "      </script>\n",
              "    </div>\n",
              "  </div>\n",
              "  "
            ]
          },
          "metadata": {},
          "execution_count": 4
        }
      ],
      "source": [
        "food=pd.read_csv('cleaned_test.csv')\n",
        "food.head()"
      ]
    },
    {
      "cell_type": "markdown",
      "id": "72eadb35",
      "metadata": {
        "id": "72eadb35"
      },
      "source": [
        "converting the Order_Date to category datatype"
      ]
    },
    {
      "cell_type": "code",
      "execution_count": 5,
      "id": "331316b7",
      "metadata": {
        "id": "331316b7"
      },
      "outputs": [],
      "source": [
        "food['Order_Date']=pd.to_datetime(food['Order_Date'])\n",
        "food['Days']=food['Order_Date'].dt.strftime('%A')\n",
        "food['Days']=food['Days'].astype('category')"
      ]
    },
    {
      "cell_type": "markdown",
      "source": [],
      "metadata": {
        "id": "-qdV6JCDODzY"
      },
      "id": "-qdV6JCDODzY"
    },
    {
      "cell_type": "markdown",
      "id": "d12ca0bd",
      "metadata": {
        "id": "d12ca0bd"
      },
      "source": [
        "Dropping off that 'Order_Date columns'because it has been converted to days"
      ]
    },
    {
      "cell_type": "code",
      "execution_count": null,
      "id": "17828a8e",
      "metadata": {
        "id": "17828a8e",
        "outputId": "5df94b8d-4cf3-4ea6-f593-edd2a1504425"
      },
      "outputs": [
        {
          "data": {
            "text/html": [
              "<div>\n",
              "<style scoped>\n",
              "    .dataframe tbody tr th:only-of-type {\n",
              "        vertical-align: middle;\n",
              "    }\n",
              "\n",
              "    .dataframe tbody tr th {\n",
              "        vertical-align: top;\n",
              "    }\n",
              "\n",
              "    .dataframe thead th {\n",
              "        text-align: right;\n",
              "    }\n",
              "</style>\n",
              "<table border=\"1\" class=\"dataframe\">\n",
              "  <thead>\n",
              "    <tr style=\"text-align: right;\">\n",
              "      <th></th>\n",
              "      <th>ID</th>\n",
              "      <th>Delivery_person_ID</th>\n",
              "      <th>Delivery_person_Age</th>\n",
              "      <th>Delivery_person_Ratings</th>\n",
              "      <th>Restaurant_latitude</th>\n",
              "      <th>Restaurant_longitude</th>\n",
              "      <th>Delivery_location_latitude</th>\n",
              "      <th>Delivery_location_longitude</th>\n",
              "      <th>Time_Orderd</th>\n",
              "      <th>Time_Order_picked</th>\n",
              "      <th>Weather</th>\n",
              "      <th>Road_traffic_density</th>\n",
              "      <th>Vehicle_condition</th>\n",
              "      <th>Type_of_order</th>\n",
              "      <th>Type_of_vehicle</th>\n",
              "      <th>multiple_deliveries</th>\n",
              "      <th>Festival</th>\n",
              "      <th>City</th>\n",
              "      <th>Name:</th>\n",
              "      <th>Days</th>\n",
              "    </tr>\n",
              "  </thead>\n",
              "  <tbody>\n",
              "    <tr>\n",
              "      <th>0</th>\n",
              "      <td>0x2318</td>\n",
              "      <td>COIMBRES13DEL01</td>\n",
              "      <td>NaN</td>\n",
              "      <td>NaN</td>\n",
              "      <td>11.003669</td>\n",
              "      <td>76.976494</td>\n",
              "      <td>11.043669</td>\n",
              "      <td>77.016494</td>\n",
              "      <td>NaN</td>\n",
              "      <td>15:05</td>\n",
              "      <td>NaN</td>\n",
              "      <td>NaN</td>\n",
              "      <td>3</td>\n",
              "      <td>Drinks</td>\n",
              "      <td>electric_scooter</td>\n",
              "      <td>1.0</td>\n",
              "      <td>No</td>\n",
              "      <td>Metropolitian</td>\n",
              "      <td>object</td>\n",
              "      <td>Wednesday</td>\n",
              "    </tr>\n",
              "    <tr>\n",
              "      <th>1</th>\n",
              "      <td>0x3474</td>\n",
              "      <td>BANGRES15DEL01</td>\n",
              "      <td>28.0</td>\n",
              "      <td>4.6</td>\n",
              "      <td>12.975377</td>\n",
              "      <td>77.696664</td>\n",
              "      <td>13.085377</td>\n",
              "      <td>77.806664</td>\n",
              "      <td>20:30</td>\n",
              "      <td>20:35</td>\n",
              "      <td>Windy</td>\n",
              "      <td>Jam</td>\n",
              "      <td>0</td>\n",
              "      <td>Snack</td>\n",
              "      <td>motorcycle</td>\n",
              "      <td>1.0</td>\n",
              "      <td>No</td>\n",
              "      <td>Metropolitian</td>\n",
              "      <td>object</td>\n",
              "      <td>Tuesday</td>\n",
              "    </tr>\n",
              "    <tr>\n",
              "      <th>2</th>\n",
              "      <td>0x9420</td>\n",
              "      <td>JAPRES09DEL03</td>\n",
              "      <td>23.0</td>\n",
              "      <td>4.5</td>\n",
              "      <td>26.911378</td>\n",
              "      <td>75.789034</td>\n",
              "      <td>27.001378</td>\n",
              "      <td>75.879034</td>\n",
              "      <td>19:35</td>\n",
              "      <td>19:45</td>\n",
              "      <td>Stormy</td>\n",
              "      <td>Jam</td>\n",
              "      <td>0</td>\n",
              "      <td>Drinks</td>\n",
              "      <td>motorcycle</td>\n",
              "      <td>1.0</td>\n",
              "      <td>No</td>\n",
              "      <td>Metropolitian</td>\n",
              "      <td>object</td>\n",
              "      <td>Monday</td>\n",
              "    </tr>\n",
              "    <tr>\n",
              "      <th>3</th>\n",
              "      <td>0x72ee</td>\n",
              "      <td>JAPRES07DEL03</td>\n",
              "      <td>21.0</td>\n",
              "      <td>4.8</td>\n",
              "      <td>26.766536</td>\n",
              "      <td>75.837333</td>\n",
              "      <td>26.856536</td>\n",
              "      <td>75.927333</td>\n",
              "      <td>17:15</td>\n",
              "      <td>17:20</td>\n",
              "      <td>Fog</td>\n",
              "      <td>Medium</td>\n",
              "      <td>1</td>\n",
              "      <td>Meal</td>\n",
              "      <td>scooter</td>\n",
              "      <td>1.0</td>\n",
              "      <td>No</td>\n",
              "      <td>Metropolitian</td>\n",
              "      <td>object</td>\n",
              "      <td>Friday</td>\n",
              "    </tr>\n",
              "    <tr>\n",
              "      <th>4</th>\n",
              "      <td>0xa759</td>\n",
              "      <td>CHENRES19DEL01</td>\n",
              "      <td>31.0</td>\n",
              "      <td>4.6</td>\n",
              "      <td>12.986047</td>\n",
              "      <td>80.218114</td>\n",
              "      <td>13.096047</td>\n",
              "      <td>80.328114</td>\n",
              "      <td>18:25</td>\n",
              "      <td>18:40</td>\n",
              "      <td>Sunny</td>\n",
              "      <td>Medium</td>\n",
              "      <td>2</td>\n",
              "      <td>Drinks</td>\n",
              "      <td>scooter</td>\n",
              "      <td>1.0</td>\n",
              "      <td>No</td>\n",
              "      <td>Metropolitian</td>\n",
              "      <td>object</td>\n",
              "      <td>Sunday</td>\n",
              "    </tr>\n",
              "    <tr>\n",
              "      <th>...</th>\n",
              "      <td>...</td>\n",
              "      <td>...</td>\n",
              "      <td>...</td>\n",
              "      <td>...</td>\n",
              "      <td>...</td>\n",
              "      <td>...</td>\n",
              "      <td>...</td>\n",
              "      <td>...</td>\n",
              "      <td>...</td>\n",
              "      <td>...</td>\n",
              "      <td>...</td>\n",
              "      <td>...</td>\n",
              "      <td>...</td>\n",
              "      <td>...</td>\n",
              "      <td>...</td>\n",
              "      <td>...</td>\n",
              "      <td>...</td>\n",
              "      <td>...</td>\n",
              "      <td>...</td>\n",
              "      <td>...</td>\n",
              "    </tr>\n",
              "    <tr>\n",
              "      <th>11394</th>\n",
              "      <td>0x6909</td>\n",
              "      <td>JAPRES01DEL01</td>\n",
              "      <td>35.0</td>\n",
              "      <td>4.6</td>\n",
              "      <td>26.905190</td>\n",
              "      <td>75.810753</td>\n",
              "      <td>27.015190</td>\n",
              "      <td>75.920753</td>\n",
              "      <td>21:35</td>\n",
              "      <td>21:45</td>\n",
              "      <td>Sunny</td>\n",
              "      <td>Jam</td>\n",
              "      <td>1</td>\n",
              "      <td>Snack</td>\n",
              "      <td>scooter</td>\n",
              "      <td>1.0</td>\n",
              "      <td>No</td>\n",
              "      <td>Metropolitian</td>\n",
              "      <td>object</td>\n",
              "      <td>Sunday</td>\n",
              "    </tr>\n",
              "    <tr>\n",
              "      <th>11395</th>\n",
              "      <td>0x443b</td>\n",
              "      <td>JAPRES11DEL01</td>\n",
              "      <td>33.0</td>\n",
              "      <td>4.9</td>\n",
              "      <td>26.902940</td>\n",
              "      <td>75.793007</td>\n",
              "      <td>26.912940</td>\n",
              "      <td>75.803007</td>\n",
              "      <td>11:40</td>\n",
              "      <td>11:45</td>\n",
              "      <td>Sandstorms</td>\n",
              "      <td>High</td>\n",
              "      <td>1</td>\n",
              "      <td>Drinks</td>\n",
              "      <td>scooter</td>\n",
              "      <td>1.0</td>\n",
              "      <td>No</td>\n",
              "      <td>Metropolitian</td>\n",
              "      <td>object</td>\n",
              "      <td>Thursday</td>\n",
              "    </tr>\n",
              "    <tr>\n",
              "      <th>11396</th>\n",
              "      <td>0x1ea5</td>\n",
              "      <td>SURRES11DEL03</td>\n",
              "      <td>NaN</td>\n",
              "      <td>NaN</td>\n",
              "      <td>21.157735</td>\n",
              "      <td>72.768778</td>\n",
              "      <td>21.217735</td>\n",
              "      <td>72.828778</td>\n",
              "      <td>NaN</td>\n",
              "      <td>21:05</td>\n",
              "      <td>NaN</td>\n",
              "      <td>NaN</td>\n",
              "      <td>3</td>\n",
              "      <td>Drinks</td>\n",
              "      <td>scooter</td>\n",
              "      <td>1.0</td>\n",
              "      <td>No</td>\n",
              "      <td>Metropolitian</td>\n",
              "      <td>object</td>\n",
              "      <td>Thursday</td>\n",
              "    </tr>\n",
              "    <tr>\n",
              "      <th>11397</th>\n",
              "      <td>0x22d4</td>\n",
              "      <td>VADRES03DEL02</td>\n",
              "      <td>27.0</td>\n",
              "      <td>4.7</td>\n",
              "      <td>22.320000</td>\n",
              "      <td>73.170000</td>\n",
              "      <td>22.450000</td>\n",
              "      <td>73.300000</td>\n",
              "      <td>18:35</td>\n",
              "      <td>18:40</td>\n",
              "      <td>Sandstorms</td>\n",
              "      <td>Medium</td>\n",
              "      <td>0</td>\n",
              "      <td>Meal</td>\n",
              "      <td>motorcycle</td>\n",
              "      <td>0.0</td>\n",
              "      <td>No</td>\n",
              "      <td>Metropolitian</td>\n",
              "      <td>object</td>\n",
              "      <td>Friday</td>\n",
              "    </tr>\n",
              "    <tr>\n",
              "      <th>11398</th>\n",
              "      <td>0xb7be</td>\n",
              "      <td>CHENRES07DEL02</td>\n",
              "      <td>39.0</td>\n",
              "      <td>5.0</td>\n",
              "      <td>13.081878</td>\n",
              "      <td>80.248519</td>\n",
              "      <td>13.131878</td>\n",
              "      <td>80.298519</td>\n",
              "      <td>22:20</td>\n",
              "      <td>22:25</td>\n",
              "      <td>Windy</td>\n",
              "      <td>Low</td>\n",
              "      <td>2</td>\n",
              "      <td>Drinks</td>\n",
              "      <td>motorcycle</td>\n",
              "      <td>1.0</td>\n",
              "      <td>No</td>\n",
              "      <td>Urban</td>\n",
              "      <td>object</td>\n",
              "      <td>Thursday</td>\n",
              "    </tr>\n",
              "  </tbody>\n",
              "</table>\n",
              "<p>11399 rows × 20 columns</p>\n",
              "</div>"
            ],
            "text/plain": [
              "           ID Delivery_person_ID  Delivery_person_Age  \\\n",
              "0      0x2318    COIMBRES13DEL01                  NaN   \n",
              "1      0x3474     BANGRES15DEL01                 28.0   \n",
              "2      0x9420      JAPRES09DEL03                 23.0   \n",
              "3      0x72ee      JAPRES07DEL03                 21.0   \n",
              "4      0xa759     CHENRES19DEL01                 31.0   \n",
              "...       ...                ...                  ...   \n",
              "11394  0x6909      JAPRES01DEL01                 35.0   \n",
              "11395  0x443b      JAPRES11DEL01                 33.0   \n",
              "11396  0x1ea5      SURRES11DEL03                  NaN   \n",
              "11397  0x22d4      VADRES03DEL02                 27.0   \n",
              "11398  0xb7be     CHENRES07DEL02                 39.0   \n",
              "\n",
              "       Delivery_person_Ratings  Restaurant_latitude  Restaurant_longitude  \\\n",
              "0                          NaN            11.003669             76.976494   \n",
              "1                          4.6            12.975377             77.696664   \n",
              "2                          4.5            26.911378             75.789034   \n",
              "3                          4.8            26.766536             75.837333   \n",
              "4                          4.6            12.986047             80.218114   \n",
              "...                        ...                  ...                   ...   \n",
              "11394                      4.6            26.905190             75.810753   \n",
              "11395                      4.9            26.902940             75.793007   \n",
              "11396                      NaN            21.157735             72.768778   \n",
              "11397                      4.7            22.320000             73.170000   \n",
              "11398                      5.0            13.081878             80.248519   \n",
              "\n",
              "       Delivery_location_latitude  Delivery_location_longitude Time_Orderd  \\\n",
              "0                       11.043669                    77.016494         NaN   \n",
              "1                       13.085377                    77.806664       20:30   \n",
              "2                       27.001378                    75.879034       19:35   \n",
              "3                       26.856536                    75.927333       17:15   \n",
              "4                       13.096047                    80.328114       18:25   \n",
              "...                           ...                          ...         ...   \n",
              "11394                   27.015190                    75.920753       21:35   \n",
              "11395                   26.912940                    75.803007       11:40   \n",
              "11396                   21.217735                    72.828778         NaN   \n",
              "11397                   22.450000                    73.300000       18:35   \n",
              "11398                   13.131878                    80.298519       22:20   \n",
              "\n",
              "      Time_Order_picked     Weather Road_traffic_density  Vehicle_condition  \\\n",
              "0                 15:05         NaN                  NaN                  3   \n",
              "1                 20:35       Windy                  Jam                  0   \n",
              "2                 19:45      Stormy                  Jam                  0   \n",
              "3                 17:20         Fog               Medium                  1   \n",
              "4                 18:40       Sunny               Medium                  2   \n",
              "...                 ...         ...                  ...                ...   \n",
              "11394             21:45       Sunny                  Jam                  1   \n",
              "11395             11:45  Sandstorms                 High                  1   \n",
              "11396             21:05         NaN                  NaN                  3   \n",
              "11397             18:40  Sandstorms               Medium                  0   \n",
              "11398             22:25       Windy                  Low                  2   \n",
              "\n",
              "      Type_of_order   Type_of_vehicle  multiple_deliveries Festival  \\\n",
              "0            Drinks  electric_scooter                  1.0       No   \n",
              "1             Snack        motorcycle                  1.0       No   \n",
              "2            Drinks        motorcycle                  1.0       No   \n",
              "3              Meal           scooter                  1.0       No   \n",
              "4            Drinks           scooter                  1.0       No   \n",
              "...             ...               ...                  ...      ...   \n",
              "11394         Snack           scooter                  1.0       No   \n",
              "11395        Drinks           scooter                  1.0       No   \n",
              "11396        Drinks           scooter                  1.0       No   \n",
              "11397          Meal        motorcycle                  0.0       No   \n",
              "11398        Drinks        motorcycle                  1.0       No   \n",
              "\n",
              "                City   Name:       Days  \n",
              "0      Metropolitian  object  Wednesday  \n",
              "1      Metropolitian  object    Tuesday  \n",
              "2      Metropolitian  object     Monday  \n",
              "3      Metropolitian  object     Friday  \n",
              "4      Metropolitian  object     Sunday  \n",
              "...              ...     ...        ...  \n",
              "11394  Metropolitian  object     Sunday  \n",
              "11395  Metropolitian  object   Thursday  \n",
              "11396  Metropolitian  object   Thursday  \n",
              "11397  Metropolitian  object     Friday  \n",
              "11398          Urban  object   Thursday  \n",
              "\n",
              "[11399 rows x 20 columns]"
            ]
          },
          "execution_count": 4,
          "metadata": {},
          "output_type": "execute_result"
        }
      ],
      "source": [
        "food.drop(['Order_Date'],axis='columns')\n"
      ]
    },
    {
      "cell_type": "code",
      "execution_count": null,
      "id": "cb527c39",
      "metadata": {
        "id": "cb527c39"
      },
      "outputs": [],
      "source": [
        "import math\n",
        "from math import radians, sin, cos, acos\n",
        "\n",
        "def distance(restaurant, destination):\n",
        "\n",
        "    lat1, long1 = restaurant\n",
        "    lat2, long2 = destination\n",
        "    radius = 6371\n",
        "    # distance in kilometers\n",
        "\n",
        "    dlat = math.radians(lat2 - lat1)\n",
        "    dlong = math.radians(long2 - long1)\n",
        "    \n",
        "    a = (math.sin(dlat / 2) * math.sin(dlat / 2) + math.cos(math.radians(lat1)) * math.cos(math.radians(lat2)) * math.sin(dlong / 2) * math.sin(dlong / 2))\n",
        "    c = 2 * math.atan2(math.sqrt(a), math.sqrt(1 - a))\n",
        "    d = radius * c\n",
        "\n",
        "    return d"
      ]
    },
    {
      "cell_type": "code",
      "execution_count": null,
      "id": "418b1a52",
      "metadata": {
        "id": "418b1a52"
      },
      "outputs": [],
      "source": [
        "food['distance_km'] = food.apply(lambda x: distance((x['Restaurant_latitude'], x['Restaurant_longitude']), (x['Delivery_location_latitude'], x['Delivery_location_longitude'])), axis=1)"
      ]
    },
    {
      "cell_type": "code",
      "execution_count": null,
      "id": "3c53eb9a",
      "metadata": {
        "id": "3c53eb9a",
        "outputId": "9ced15d0-8d32-4ebf-dc9d-8b37972acbb3"
      },
      "outputs": [
        {
          "data": {
            "text/html": [
              "<div>\n",
              "<style scoped>\n",
              "    .dataframe tbody tr th:only-of-type {\n",
              "        vertical-align: middle;\n",
              "    }\n",
              "\n",
              "    .dataframe tbody tr th {\n",
              "        vertical-align: top;\n",
              "    }\n",
              "\n",
              "    .dataframe thead th {\n",
              "        text-align: right;\n",
              "    }\n",
              "</style>\n",
              "<table border=\"1\" class=\"dataframe\">\n",
              "  <thead>\n",
              "    <tr style=\"text-align: right;\">\n",
              "      <th></th>\n",
              "      <th>Unnamed: 0</th>\n",
              "      <th>ID</th>\n",
              "      <th>Delivery_person_ID</th>\n",
              "      <th>Delivery_person_Age</th>\n",
              "      <th>Delivery_person_Ratings</th>\n",
              "      <th>Restaurant_latitude</th>\n",
              "      <th>Restaurant_longitude</th>\n",
              "      <th>Delivery_location_latitude</th>\n",
              "      <th>Delivery_location_longitude</th>\n",
              "      <th>Time_Orderd</th>\n",
              "      <th>Time_Order_picked</th>\n",
              "      <th>Weatherconditions</th>\n",
              "      <th>Road_traffic_density</th>\n",
              "      <th>Vehicle_condition</th>\n",
              "      <th>Type_of_order</th>\n",
              "      <th>Type_of_vehicle</th>\n",
              "      <th>multiple_deliveries</th>\n",
              "      <th>Festival</th>\n",
              "      <th>City</th>\n",
              "      <th>Time_taken(min)</th>\n",
              "    </tr>\n",
              "  </thead>\n",
              "  <tbody>\n",
              "    <tr>\n",
              "      <th>0</th>\n",
              "      <td>1</td>\n",
              "      <td>0x4607_x</td>\n",
              "      <td>INDORES13DEL02</td>\n",
              "      <td>37</td>\n",
              "      <td>4.9</td>\n",
              "      <td>22.745049</td>\n",
              "      <td>75.892471</td>\n",
              "      <td>22.765049</td>\n",
              "      <td>75.912471</td>\n",
              "      <td>11:30</td>\n",
              "      <td>11:45</td>\n",
              "      <td>4</td>\n",
              "      <td>0</td>\n",
              "      <td>2</td>\n",
              "      <td>3</td>\n",
              "      <td>3</td>\n",
              "      <td>0.0</td>\n",
              "      <td>1</td>\n",
              "      <td>3</td>\n",
              "      <td>24.0</td>\n",
              "    </tr>\n",
              "    <tr>\n",
              "      <th>1</th>\n",
              "      <td>2</td>\n",
              "      <td>0xb379_x</td>\n",
              "      <td>BANGRES18DEL02</td>\n",
              "      <td>34</td>\n",
              "      <td>4.5</td>\n",
              "      <td>12.913041</td>\n",
              "      <td>77.683237</td>\n",
              "      <td>13.043041</td>\n",
              "      <td>77.813237</td>\n",
              "      <td>19:45</td>\n",
              "      <td>19:50</td>\n",
              "      <td>3</td>\n",
              "      <td>1</td>\n",
              "      <td>2</td>\n",
              "      <td>3</td>\n",
              "      <td>4</td>\n",
              "      <td>1.0</td>\n",
              "      <td>1</td>\n",
              "      <td>1</td>\n",
              "      <td>33.0</td>\n",
              "    </tr>\n",
              "    <tr>\n",
              "      <th>2</th>\n",
              "      <td>3</td>\n",
              "      <td>0x20f7_x</td>\n",
              "      <td>BANGRES18DEL01</td>\n",
              "      <td>37</td>\n",
              "      <td>4.4</td>\n",
              "      <td>12.913041</td>\n",
              "      <td>77.683237</td>\n",
              "      <td>12.953041</td>\n",
              "      <td>77.723237</td>\n",
              "      <td>13:50</td>\n",
              "      <td>13:55</td>\n",
              "      <td>6</td>\n",
              "      <td>0</td>\n",
              "      <td>0</td>\n",
              "      <td>0</td>\n",
              "      <td>3</td>\n",
              "      <td>2.0</td>\n",
              "      <td>1</td>\n",
              "      <td>1</td>\n",
              "      <td>42.0</td>\n",
              "    </tr>\n",
              "    <tr>\n",
              "      <th>3</th>\n",
              "      <td>4</td>\n",
              "      <td>0x7804_x</td>\n",
              "      <td>HYDRES13DEL02</td>\n",
              "      <td>28</td>\n",
              "      <td>4.9</td>\n",
              "      <td>17.431477</td>\n",
              "      <td>78.400350</td>\n",
              "      <td>17.451477</td>\n",
              "      <td>78.420350</td>\n",
              "      <td>10:60</td>\n",
              "      <td>11:15</td>\n",
              "      <td>2</td>\n",
              "      <td>2</td>\n",
              "      <td>1</td>\n",
              "      <td>2</td>\n",
              "      <td>4</td>\n",
              "      <td>1.0</td>\n",
              "      <td>1</td>\n",
              "      <td>3</td>\n",
              "      <td>19.0</td>\n",
              "    </tr>\n",
              "    <tr>\n",
              "      <th>4</th>\n",
              "      <td>5</td>\n",
              "      <td>0x7faf_x</td>\n",
              "      <td>RANCHIRES07DEL01</td>\n",
              "      <td>37</td>\n",
              "      <td>4.6</td>\n",
              "      <td>23.359407</td>\n",
              "      <td>85.325055</td>\n",
              "      <td>23.429407</td>\n",
              "      <td>85.395055</td>\n",
              "      <td>23:50</td>\n",
              "      <td>23:60</td>\n",
              "      <td>3</td>\n",
              "      <td>2</td>\n",
              "      <td>0</td>\n",
              "      <td>2</td>\n",
              "      <td>3</td>\n",
              "      <td>1.0</td>\n",
              "      <td>1</td>\n",
              "      <td>1</td>\n",
              "      <td>25.0</td>\n",
              "    </tr>\n",
              "  </tbody>\n",
              "</table>\n",
              "</div>"
            ],
            "text/plain": [
              "   Unnamed: 0        ID Delivery_person_ID  Delivery_person_Age  \\\n",
              "0           1  0x4607_x     INDORES13DEL02                   37   \n",
              "1           2  0xb379_x     BANGRES18DEL02                   34   \n",
              "2           3  0x20f7_x     BANGRES18DEL01                   37   \n",
              "3           4  0x7804_x      HYDRES13DEL02                   28   \n",
              "4           5  0x7faf_x   RANCHIRES07DEL01                   37   \n",
              "\n",
              "   Delivery_person_Ratings  Restaurant_latitude  Restaurant_longitude  \\\n",
              "0                      4.9            22.745049             75.892471   \n",
              "1                      4.5            12.913041             77.683237   \n",
              "2                      4.4            12.913041             77.683237   \n",
              "3                      4.9            17.431477             78.400350   \n",
              "4                      4.6            23.359407             85.325055   \n",
              "\n",
              "   Delivery_location_latitude  Delivery_location_longitude Time_Orderd  \\\n",
              "0                   22.765049                    75.912471       11:30   \n",
              "1                   13.043041                    77.813237       19:45   \n",
              "2                   12.953041                    77.723237       13:50   \n",
              "3                   17.451477                    78.420350       10:60   \n",
              "4                   23.429407                    85.395055       23:50   \n",
              "\n",
              "  Time_Order_picked  Weatherconditions  Road_traffic_density  \\\n",
              "0             11:45                  4                     0   \n",
              "1             19:50                  3                     1   \n",
              "2             13:55                  6                     0   \n",
              "3             11:15                  2                     2   \n",
              "4             23:60                  3                     2   \n",
              "\n",
              "   Vehicle_condition  Type_of_order  Type_of_vehicle  multiple_deliveries  \\\n",
              "0                  2              3                3                  0.0   \n",
              "1                  2              3                4                  1.0   \n",
              "2                  0              0                3                  2.0   \n",
              "3                  1              2                4                  1.0   \n",
              "4                  0              2                3                  1.0   \n",
              "\n",
              "   Festival  City  Time_taken(min)  \n",
              "0         1     3             24.0  \n",
              "1         1     1             33.0  \n",
              "2         1     1             42.0  \n",
              "3         1     3             19.0  \n",
              "4         1     1             25.0  "
            ]
          },
          "execution_count": 7,
          "metadata": {},
          "output_type": "execute_result"
        }
      ],
      "source": [
        "updatedfood=pd.read_csv('updated.csv')\n",
        "updatedfood.head()"
      ]
    },
    {
      "cell_type": "code",
      "execution_count": null,
      "id": "8fada32d",
      "metadata": {
        "id": "8fada32d",
        "outputId": "bf07d88e-af45-4ae5-cfaf-8c2d00ba9da8"
      },
      "outputs": [
        {
          "data": {
            "text/html": [
              "<div>\n",
              "<style scoped>\n",
              "    .dataframe tbody tr th:only-of-type {\n",
              "        vertical-align: middle;\n",
              "    }\n",
              "\n",
              "    .dataframe tbody tr th {\n",
              "        vertical-align: top;\n",
              "    }\n",
              "\n",
              "    .dataframe thead th {\n",
              "        text-align: right;\n",
              "    }\n",
              "</style>\n",
              "<table border=\"1\" class=\"dataframe\">\n",
              "  <thead>\n",
              "    <tr style=\"text-align: right;\">\n",
              "      <th></th>\n",
              "      <th>ID</th>\n",
              "      <th>Delivery_person_ID</th>\n",
              "      <th>Delivery_person_Age</th>\n",
              "      <th>Delivery_person_Ratings</th>\n",
              "      <th>Restaurant_latitude</th>\n",
              "      <th>Restaurant_longitude</th>\n",
              "      <th>Delivery_location_latitude</th>\n",
              "      <th>Delivery_location_longitude</th>\n",
              "      <th>Order_Date</th>\n",
              "      <th>Time_Orderd</th>\n",
              "      <th>...</th>\n",
              "      <th>Road_traffic_density</th>\n",
              "      <th>Vehicle_condition</th>\n",
              "      <th>Type_of_order</th>\n",
              "      <th>Type_of_vehicle</th>\n",
              "      <th>multiple_deliveries</th>\n",
              "      <th>Festival</th>\n",
              "      <th>City</th>\n",
              "      <th>Name:</th>\n",
              "      <th>Days</th>\n",
              "      <th>distance_km</th>\n",
              "    </tr>\n",
              "  </thead>\n",
              "  <tbody>\n",
              "    <tr>\n",
              "      <th>0</th>\n",
              "      <td>0x2318</td>\n",
              "      <td>COIMBRES13DEL01</td>\n",
              "      <td>NaN</td>\n",
              "      <td>NaN</td>\n",
              "      <td>11.003669</td>\n",
              "      <td>76.976494</td>\n",
              "      <td>11.043669</td>\n",
              "      <td>77.016494</td>\n",
              "      <td>2022-03-30</td>\n",
              "      <td>NaN</td>\n",
              "      <td>...</td>\n",
              "      <td>NaN</td>\n",
              "      <td>3</td>\n",
              "      <td>Drinks</td>\n",
              "      <td>electric_scooter</td>\n",
              "      <td>1.0</td>\n",
              "      <td>No</td>\n",
              "      <td>Metropolitian</td>\n",
              "      <td>object</td>\n",
              "      <td>Wednesday</td>\n",
              "      <td>6.232373</td>\n",
              "    </tr>\n",
              "    <tr>\n",
              "      <th>1</th>\n",
              "      <td>0x3474</td>\n",
              "      <td>BANGRES15DEL01</td>\n",
              "      <td>28.0</td>\n",
              "      <td>4.6</td>\n",
              "      <td>12.975377</td>\n",
              "      <td>77.696664</td>\n",
              "      <td>13.085377</td>\n",
              "      <td>77.806664</td>\n",
              "      <td>2022-03-29</td>\n",
              "      <td>20:30</td>\n",
              "      <td>...</td>\n",
              "      <td>Jam</td>\n",
              "      <td>0</td>\n",
              "      <td>Snack</td>\n",
              "      <td>motorcycle</td>\n",
              "      <td>1.0</td>\n",
              "      <td>No</td>\n",
              "      <td>Metropolitian</td>\n",
              "      <td>object</td>\n",
              "      <td>Tuesday</td>\n",
              "      <td>17.076617</td>\n",
              "    </tr>\n",
              "    <tr>\n",
              "      <th>2</th>\n",
              "      <td>0x9420</td>\n",
              "      <td>JAPRES09DEL03</td>\n",
              "      <td>23.0</td>\n",
              "      <td>4.5</td>\n",
              "      <td>26.911378</td>\n",
              "      <td>75.789034</td>\n",
              "      <td>27.001378</td>\n",
              "      <td>75.879034</td>\n",
              "      <td>2022-10-03</td>\n",
              "      <td>19:35</td>\n",
              "      <td>...</td>\n",
              "      <td>Jam</td>\n",
              "      <td>0</td>\n",
              "      <td>Drinks</td>\n",
              "      <td>motorcycle</td>\n",
              "      <td>1.0</td>\n",
              "      <td>No</td>\n",
              "      <td>Metropolitian</td>\n",
              "      <td>object</td>\n",
              "      <td>Monday</td>\n",
              "      <td>13.406029</td>\n",
              "    </tr>\n",
              "    <tr>\n",
              "      <th>3</th>\n",
              "      <td>0x72ee</td>\n",
              "      <td>JAPRES07DEL03</td>\n",
              "      <td>21.0</td>\n",
              "      <td>4.8</td>\n",
              "      <td>26.766536</td>\n",
              "      <td>75.837333</td>\n",
              "      <td>26.856536</td>\n",
              "      <td>75.927333</td>\n",
              "      <td>2022-02-04</td>\n",
              "      <td>17:15</td>\n",
              "      <td>...</td>\n",
              "      <td>Medium</td>\n",
              "      <td>1</td>\n",
              "      <td>Meal</td>\n",
              "      <td>scooter</td>\n",
              "      <td>1.0</td>\n",
              "      <td>No</td>\n",
              "      <td>Metropolitian</td>\n",
              "      <td>object</td>\n",
              "      <td>Friday</td>\n",
              "      <td>13.413644</td>\n",
              "    </tr>\n",
              "    <tr>\n",
              "      <th>4</th>\n",
              "      <td>0xa759</td>\n",
              "      <td>CHENRES19DEL01</td>\n",
              "      <td>31.0</td>\n",
              "      <td>4.6</td>\n",
              "      <td>12.986047</td>\n",
              "      <td>80.218114</td>\n",
              "      <td>13.096047</td>\n",
              "      <td>80.328114</td>\n",
              "      <td>2022-03-27</td>\n",
              "      <td>18:25</td>\n",
              "      <td>...</td>\n",
              "      <td>Medium</td>\n",
              "      <td>2</td>\n",
              "      <td>Drinks</td>\n",
              "      <td>scooter</td>\n",
              "      <td>1.0</td>\n",
              "      <td>No</td>\n",
              "      <td>Metropolitian</td>\n",
              "      <td>object</td>\n",
              "      <td>Sunday</td>\n",
              "      <td>17.076259</td>\n",
              "    </tr>\n",
              "  </tbody>\n",
              "</table>\n",
              "<p>5 rows × 22 columns</p>\n",
              "</div>"
            ],
            "text/plain": [
              "       ID Delivery_person_ID  Delivery_person_Age  Delivery_person_Ratings  \\\n",
              "0  0x2318    COIMBRES13DEL01                  NaN                      NaN   \n",
              "1  0x3474     BANGRES15DEL01                 28.0                      4.6   \n",
              "2  0x9420      JAPRES09DEL03                 23.0                      4.5   \n",
              "3  0x72ee      JAPRES07DEL03                 21.0                      4.8   \n",
              "4  0xa759     CHENRES19DEL01                 31.0                      4.6   \n",
              "\n",
              "   Restaurant_latitude  Restaurant_longitude  Delivery_location_latitude  \\\n",
              "0            11.003669             76.976494                   11.043669   \n",
              "1            12.975377             77.696664                   13.085377   \n",
              "2            26.911378             75.789034                   27.001378   \n",
              "3            26.766536             75.837333                   26.856536   \n",
              "4            12.986047             80.218114                   13.096047   \n",
              "\n",
              "   Delivery_location_longitude Order_Date Time_Orderd  ...  \\\n",
              "0                    77.016494 2022-03-30         NaN  ...   \n",
              "1                    77.806664 2022-03-29       20:30  ...   \n",
              "2                    75.879034 2022-10-03       19:35  ...   \n",
              "3                    75.927333 2022-02-04       17:15  ...   \n",
              "4                    80.328114 2022-03-27       18:25  ...   \n",
              "\n",
              "  Road_traffic_density Vehicle_condition Type_of_order   Type_of_vehicle  \\\n",
              "0                  NaN                 3        Drinks  electric_scooter   \n",
              "1                  Jam                 0         Snack        motorcycle   \n",
              "2                  Jam                 0        Drinks        motorcycle   \n",
              "3               Medium                 1          Meal           scooter   \n",
              "4               Medium                 2        Drinks           scooter   \n",
              "\n",
              "  multiple_deliveries Festival           City   Name:       Days distance_km  \n",
              "0                 1.0       No  Metropolitian  object  Wednesday    6.232373  \n",
              "1                 1.0       No  Metropolitian  object    Tuesday   17.076617  \n",
              "2                 1.0       No  Metropolitian  object     Monday   13.406029  \n",
              "3                 1.0       No  Metropolitian  object     Friday   13.413644  \n",
              "4                 1.0       No  Metropolitian  object     Sunday   17.076259  \n",
              "\n",
              "[5 rows x 22 columns]"
            ]
          },
          "execution_count": 8,
          "metadata": {},
          "output_type": "execute_result"
        }
      ],
      "source": [
        "food.head()"
      ]
    },
    {
      "cell_type": "markdown",
      "id": "3ba74ef6",
      "metadata": {
        "id": "3ba74ef6"
      },
      "source": [
        "Extracting time taken coliumn from updated food dataset"
      ]
    },
    {
      "cell_type": "code",
      "execution_count": null,
      "id": "1d420b57",
      "metadata": {
        "id": "1d420b57",
        "outputId": "66cab124-ff0b-434d-be57-bdc72051a0cf"
      },
      "outputs": [
        {
          "data": {
            "text/plain": [
              "0       24.0\n",
              "1       33.0\n",
              "2       42.0\n",
              "3       19.0\n",
              "4       25.0\n",
              "        ... \n",
              "2437    29.0\n",
              "2438    22.0\n",
              "2439    28.0\n",
              "2440    12.0\n",
              "2441    36.0\n",
              "Name: Time_taken(min), Length: 2442, dtype: float64"
            ]
          },
          "execution_count": 9,
          "metadata": {},
          "output_type": "execute_result"
        }
      ],
      "source": [
        "Time_taken=updatedfood['Time_taken(min)']\n",
        "Time_taken"
      ]
    },
    {
      "cell_type": "markdown",
      "id": "f8020ba3",
      "metadata": {
        "id": "f8020ba3"
      },
      "source": [
        "Adding time_taken column to the cleaned dataset"
      ]
    },
    {
      "cell_type": "code",
      "execution_count": null,
      "id": "d6efd936",
      "metadata": {
        "id": "d6efd936"
      },
      "outputs": [],
      "source": [
        "food['Time_taken']=Time_taken"
      ]
    },
    {
      "cell_type": "code",
      "execution_count": null,
      "id": "33a7ee3b",
      "metadata": {
        "id": "33a7ee3b",
        "outputId": "e27a2a8d-bb96-4b9e-d986-1e4ae0dd68af"
      },
      "outputs": [
        {
          "data": {
            "text/html": [
              "<div>\n",
              "<style scoped>\n",
              "    .dataframe tbody tr th:only-of-type {\n",
              "        vertical-align: middle;\n",
              "    }\n",
              "\n",
              "    .dataframe tbody tr th {\n",
              "        vertical-align: top;\n",
              "    }\n",
              "\n",
              "    .dataframe thead th {\n",
              "        text-align: right;\n",
              "    }\n",
              "</style>\n",
              "<table border=\"1\" class=\"dataframe\">\n",
              "  <thead>\n",
              "    <tr style=\"text-align: right;\">\n",
              "      <th></th>\n",
              "      <th>ID</th>\n",
              "      <th>Delivery_person_ID</th>\n",
              "      <th>Delivery_person_Age</th>\n",
              "      <th>Delivery_person_Ratings</th>\n",
              "      <th>Restaurant_latitude</th>\n",
              "      <th>Restaurant_longitude</th>\n",
              "      <th>Delivery_location_latitude</th>\n",
              "      <th>Delivery_location_longitude</th>\n",
              "      <th>Order_Date</th>\n",
              "      <th>Time_Orderd</th>\n",
              "      <th>...</th>\n",
              "      <th>Vehicle_condition</th>\n",
              "      <th>Type_of_order</th>\n",
              "      <th>Type_of_vehicle</th>\n",
              "      <th>multiple_deliveries</th>\n",
              "      <th>Festival</th>\n",
              "      <th>City</th>\n",
              "      <th>Name:</th>\n",
              "      <th>Days</th>\n",
              "      <th>distance_km</th>\n",
              "      <th>Time_taken</th>\n",
              "    </tr>\n",
              "  </thead>\n",
              "  <tbody>\n",
              "    <tr>\n",
              "      <th>0</th>\n",
              "      <td>0x2318</td>\n",
              "      <td>COIMBRES13DEL01</td>\n",
              "      <td>NaN</td>\n",
              "      <td>NaN</td>\n",
              "      <td>11.003669</td>\n",
              "      <td>76.976494</td>\n",
              "      <td>11.043669</td>\n",
              "      <td>77.016494</td>\n",
              "      <td>2022-03-30</td>\n",
              "      <td>NaN</td>\n",
              "      <td>...</td>\n",
              "      <td>3</td>\n",
              "      <td>Drinks</td>\n",
              "      <td>electric_scooter</td>\n",
              "      <td>1.0</td>\n",
              "      <td>No</td>\n",
              "      <td>Metropolitian</td>\n",
              "      <td>object</td>\n",
              "      <td>Wednesday</td>\n",
              "      <td>6.232373</td>\n",
              "      <td>24.0</td>\n",
              "    </tr>\n",
              "    <tr>\n",
              "      <th>1</th>\n",
              "      <td>0x3474</td>\n",
              "      <td>BANGRES15DEL01</td>\n",
              "      <td>28.0</td>\n",
              "      <td>4.6</td>\n",
              "      <td>12.975377</td>\n",
              "      <td>77.696664</td>\n",
              "      <td>13.085377</td>\n",
              "      <td>77.806664</td>\n",
              "      <td>2022-03-29</td>\n",
              "      <td>20:30</td>\n",
              "      <td>...</td>\n",
              "      <td>0</td>\n",
              "      <td>Snack</td>\n",
              "      <td>motorcycle</td>\n",
              "      <td>1.0</td>\n",
              "      <td>No</td>\n",
              "      <td>Metropolitian</td>\n",
              "      <td>object</td>\n",
              "      <td>Tuesday</td>\n",
              "      <td>17.076617</td>\n",
              "      <td>33.0</td>\n",
              "    </tr>\n",
              "    <tr>\n",
              "      <th>2</th>\n",
              "      <td>0x9420</td>\n",
              "      <td>JAPRES09DEL03</td>\n",
              "      <td>23.0</td>\n",
              "      <td>4.5</td>\n",
              "      <td>26.911378</td>\n",
              "      <td>75.789034</td>\n",
              "      <td>27.001378</td>\n",
              "      <td>75.879034</td>\n",
              "      <td>2022-10-03</td>\n",
              "      <td>19:35</td>\n",
              "      <td>...</td>\n",
              "      <td>0</td>\n",
              "      <td>Drinks</td>\n",
              "      <td>motorcycle</td>\n",
              "      <td>1.0</td>\n",
              "      <td>No</td>\n",
              "      <td>Metropolitian</td>\n",
              "      <td>object</td>\n",
              "      <td>Monday</td>\n",
              "      <td>13.406029</td>\n",
              "      <td>42.0</td>\n",
              "    </tr>\n",
              "    <tr>\n",
              "      <th>3</th>\n",
              "      <td>0x72ee</td>\n",
              "      <td>JAPRES07DEL03</td>\n",
              "      <td>21.0</td>\n",
              "      <td>4.8</td>\n",
              "      <td>26.766536</td>\n",
              "      <td>75.837333</td>\n",
              "      <td>26.856536</td>\n",
              "      <td>75.927333</td>\n",
              "      <td>2022-02-04</td>\n",
              "      <td>17:15</td>\n",
              "      <td>...</td>\n",
              "      <td>1</td>\n",
              "      <td>Meal</td>\n",
              "      <td>scooter</td>\n",
              "      <td>1.0</td>\n",
              "      <td>No</td>\n",
              "      <td>Metropolitian</td>\n",
              "      <td>object</td>\n",
              "      <td>Friday</td>\n",
              "      <td>13.413644</td>\n",
              "      <td>19.0</td>\n",
              "    </tr>\n",
              "    <tr>\n",
              "      <th>4</th>\n",
              "      <td>0xa759</td>\n",
              "      <td>CHENRES19DEL01</td>\n",
              "      <td>31.0</td>\n",
              "      <td>4.6</td>\n",
              "      <td>12.986047</td>\n",
              "      <td>80.218114</td>\n",
              "      <td>13.096047</td>\n",
              "      <td>80.328114</td>\n",
              "      <td>2022-03-27</td>\n",
              "      <td>18:25</td>\n",
              "      <td>...</td>\n",
              "      <td>2</td>\n",
              "      <td>Drinks</td>\n",
              "      <td>scooter</td>\n",
              "      <td>1.0</td>\n",
              "      <td>No</td>\n",
              "      <td>Metropolitian</td>\n",
              "      <td>object</td>\n",
              "      <td>Sunday</td>\n",
              "      <td>17.076259</td>\n",
              "      <td>25.0</td>\n",
              "    </tr>\n",
              "  </tbody>\n",
              "</table>\n",
              "<p>5 rows × 23 columns</p>\n",
              "</div>"
            ],
            "text/plain": [
              "       ID Delivery_person_ID  Delivery_person_Age  Delivery_person_Ratings  \\\n",
              "0  0x2318    COIMBRES13DEL01                  NaN                      NaN   \n",
              "1  0x3474     BANGRES15DEL01                 28.0                      4.6   \n",
              "2  0x9420      JAPRES09DEL03                 23.0                      4.5   \n",
              "3  0x72ee      JAPRES07DEL03                 21.0                      4.8   \n",
              "4  0xa759     CHENRES19DEL01                 31.0                      4.6   \n",
              "\n",
              "   Restaurant_latitude  Restaurant_longitude  Delivery_location_latitude  \\\n",
              "0            11.003669             76.976494                   11.043669   \n",
              "1            12.975377             77.696664                   13.085377   \n",
              "2            26.911378             75.789034                   27.001378   \n",
              "3            26.766536             75.837333                   26.856536   \n",
              "4            12.986047             80.218114                   13.096047   \n",
              "\n",
              "   Delivery_location_longitude Order_Date Time_Orderd  ... Vehicle_condition  \\\n",
              "0                    77.016494 2022-03-30         NaN  ...                 3   \n",
              "1                    77.806664 2022-03-29       20:30  ...                 0   \n",
              "2                    75.879034 2022-10-03       19:35  ...                 0   \n",
              "3                    75.927333 2022-02-04       17:15  ...                 1   \n",
              "4                    80.328114 2022-03-27       18:25  ...                 2   \n",
              "\n",
              "  Type_of_order   Type_of_vehicle  multiple_deliveries Festival  \\\n",
              "0        Drinks  electric_scooter                  1.0       No   \n",
              "1         Snack        motorcycle                  1.0       No   \n",
              "2        Drinks        motorcycle                  1.0       No   \n",
              "3          Meal           scooter                  1.0       No   \n",
              "4        Drinks           scooter                  1.0       No   \n",
              "\n",
              "            City   Name:       Days distance_km Time_taken  \n",
              "0  Metropolitian  object  Wednesday    6.232373       24.0  \n",
              "1  Metropolitian  object    Tuesday   17.076617       33.0  \n",
              "2  Metropolitian  object     Monday   13.406029       42.0  \n",
              "3  Metropolitian  object     Friday   13.413644       19.0  \n",
              "4  Metropolitian  object     Sunday   17.076259       25.0  \n",
              "\n",
              "[5 rows x 23 columns]"
            ]
          },
          "execution_count": 11,
          "metadata": {},
          "output_type": "execute_result"
        }
      ],
      "source": [
        "food.head()"
      ]
    },
    {
      "cell_type": "code",
      "execution_count": null,
      "id": "51b74bf7",
      "metadata": {
        "id": "51b74bf7",
        "outputId": "b542270a-b4ae-473f-bea6-65615eda2821"
      },
      "outputs": [
        {
          "data": {
            "text/plain": [
              "(11399, 23)"
            ]
          },
          "execution_count": 12,
          "metadata": {},
          "output_type": "execute_result"
        }
      ],
      "source": [
        "food.shape"
      ]
    },
    {
      "cell_type": "code",
      "execution_count": null,
      "id": "8513885c",
      "metadata": {
        "id": "8513885c",
        "outputId": "5d1538c0-812d-4694-97f9-ea12e06b9b0a"
      },
      "outputs": [
        {
          "name": "stdout",
          "output_type": "stream",
          "text": [
            "<class 'pandas.core.frame.DataFrame'>\n",
            "RangeIndex: 11399 entries, 0 to 11398\n",
            "Data columns (total 23 columns):\n",
            " #   Column                       Non-Null Count  Dtype         \n",
            "---  ------                       --------------  -----         \n",
            " 0   ID                           11399 non-null  object        \n",
            " 1   Delivery_person_ID           11399 non-null  object        \n",
            " 2   Delivery_person_Age          10908 non-null  float64       \n",
            " 3   Delivery_person_Ratings      10892 non-null  float64       \n",
            " 4   Restaurant_latitude          11399 non-null  float64       \n",
            " 5   Restaurant_longitude         11399 non-null  float64       \n",
            " 6   Delivery_location_latitude   11399 non-null  float64       \n",
            " 7   Delivery_location_longitude  11399 non-null  float64       \n",
            " 8   Order_Date                   11399 non-null  datetime64[ns]\n",
            " 9   Time_Orderd                  10955 non-null  object        \n",
            " 10  Time_Order_picked            11399 non-null  object        \n",
            " 11  Weather                      11241 non-null  object        \n",
            " 12  Road_traffic_density         11245 non-null  object        \n",
            " 13  Vehicle_condition            11399 non-null  int64         \n",
            " 14  Type_of_order                11399 non-null  object        \n",
            " 15  Type_of_vehicle              11399 non-null  object        \n",
            " 16  multiple_deliveries          11161 non-null  float64       \n",
            " 17  Festival                     11334 non-null  object        \n",
            " 18  City                         11075 non-null  object        \n",
            " 19  Name:                        11399 non-null  object        \n",
            " 20  Days                         11399 non-null  category      \n",
            " 21  distance_km                  11399 non-null  float64       \n",
            " 22  Time_taken                   2442 non-null   float64       \n",
            "dtypes: category(1), datetime64[ns](1), float64(9), int64(1), object(11)\n",
            "memory usage: 1.9+ MB\n"
          ]
        }
      ],
      "source": [
        "food.info()"
      ]
    },
    {
      "cell_type": "markdown",
      "id": "312a7b4a",
      "metadata": {
        "id": "312a7b4a"
      },
      "source": [
        "##### checking and filling null values"
      ]
    },
    {
      "cell_type": "code",
      "execution_count": null,
      "id": "d97642d3",
      "metadata": {
        "id": "d97642d3",
        "outputId": "6679f72f-a6ba-405c-82e0-ab4a3d200ec1"
      },
      "outputs": [
        {
          "data": {
            "text/plain": [
              "ID                                0\n",
              "Delivery_person_ID                0\n",
              "Delivery_person_Age             491\n",
              "Delivery_person_Ratings         507\n",
              "Restaurant_latitude               0\n",
              "Restaurant_longitude              0\n",
              "Delivery_location_latitude        0\n",
              "Delivery_location_longitude       0\n",
              "Order_Date                        0\n",
              "Time_Orderd                     444\n",
              "Time_Order_picked                 0\n",
              "Weather                         158\n",
              "Road_traffic_density            154\n",
              "Vehicle_condition                 0\n",
              "Type_of_order                     0\n",
              "Type_of_vehicle                   0\n",
              "multiple_deliveries             238\n",
              "Festival                         65\n",
              "City                            324\n",
              "Name:                             0\n",
              "Days                              0\n",
              "distance_km                       0\n",
              "Time_taken                     8957\n",
              "dtype: int64"
            ]
          },
          "execution_count": 14,
          "metadata": {},
          "output_type": "execute_result"
        }
      ],
      "source": [
        "food.isnull().sum()"
      ]
    },
    {
      "cell_type": "markdown",
      "id": "4ae7437e",
      "metadata": {
        "id": "4ae7437e"
      },
      "source": [
        "##### What order type is more prefered, creat a piechart for type of order"
      ]
    },
    {
      "cell_type": "code",
      "execution_count": null,
      "id": "b2056c78",
      "metadata": {
        "id": "b2056c78",
        "outputId": "313e698d-3fd4-4001-afcf-2235dd574858"
      },
      "outputs": [
        {
          "data": {
            "text/plain": [
              "Drinks    2920\n",
              "Buffet    2870\n",
              "Snack     2815\n",
              "Meal      2794\n",
              "Name: Type_of_order, dtype: int64"
            ]
          },
          "execution_count": 15,
          "metadata": {},
          "output_type": "execute_result"
        }
      ],
      "source": [
        "Order_type=food['Type_of_order'].value_counts()\n",
        "Order_type"
      ]
    },
    {
      "cell_type": "code",
      "execution_count": null,
      "id": "b75dc832",
      "metadata": {
        "id": "b75dc832",
        "outputId": "efc8f85f-3e55-4ab5-da15-0a8eb56ff548"
      },
      "outputs": [
        {
          "data": {
            "text/plain": [
              "0"
            ]
          },
          "execution_count": 16,
          "metadata": {},
          "output_type": "execute_result"
        }
      ],
      "source": [
        "Order_type=food['Type_of_order'].isnull().sum()\n",
        "Order_type"
      ]
    },
    {
      "cell_type": "code",
      "execution_count": null,
      "id": "badfd2db",
      "metadata": {
        "id": "badfd2db",
        "outputId": "e0d46687-3612-4c50-c830-bd3d8cced267"
      },
      "outputs": [
        {
          "data": {
            "image/png": "[encoded data removed]",
            "text/plain": [
              "<Figure size 432x288 with 1 Axes>"
            ]
          },
          "metadata": {},
          "output_type": "display_data"
        }
      ],
      "source": [
        "plt.pie(food['Type_of_order'].value_counts().head(10), \n",
        "        labels=food['Type_of_order'].value_counts().head().index,autopct='%1.1f%%',\n",
        "        colors=['skyblue', 'orange'],startangle=90\n",
        "        \n",
        "        \n",
        "       );\n",
        "plt.legend();"
      ]
    },
    {
      "cell_type": "code",
      "execution_count": null,
      "id": "418de131",
      "metadata": {
        "id": "418de131",
        "outputId": "2571dd2c-383c-4e11-fc8b-e3549a923b01"
      },
      "outputs": [
        {
          "ename": "AttributeError",
          "evalue": "'numpy.int64' object has no attribute 'plot'",
          "output_type": "error",
          "traceback": [
            "\u001b[1;31m---------------------------------------------------------------------------\u001b[0m",
            "\u001b[1;31mAttributeError\u001b[0m                            Traceback (most recent call last)",
            "Input \u001b[1;32mIn [69]\u001b[0m, in \u001b[0;36m<cell line: 1>\u001b[1;34m()\u001b[0m\n\u001b[1;32m----> 1\u001b[0m \u001b[43mOrder_type\u001b[49m\u001b[38;5;241;43m.\u001b[39;49m\u001b[43mplot\u001b[49m(x\u001b[38;5;241m=\u001b[39m\u001b[38;5;124m'\u001b[39m\u001b[38;5;124mfood\u001b[39m\u001b[38;5;124m'\u001b[39m,y\u001b[38;5;241m=\u001b[39m\u001b[38;5;124m'\u001b[39m\u001b[38;5;124m'\u001b[39m,kind\u001b[38;5;241m=\u001b[39m\u001b[38;5;124m'\u001b[39m\u001b[38;5;124mpie\u001b[39m\u001b[38;5;124m'\u001b[39m,autopct\u001b[38;5;241m=\u001b[39m\u001b[38;5;124m'\u001b[39m\u001b[38;5;132;01m%1.1f\u001b[39;00m\u001b[38;5;132;01m%%\u001b[39;00m\u001b[38;5;124m'\u001b[39m,figsize\u001b[38;5;241m=\u001b[39m(\u001b[38;5;241m10\u001b[39m,\u001b[38;5;241m8\u001b[39m));\n\u001b[0;32m      2\u001b[0m plt\u001b[38;5;241m.\u001b[39mtitle(\u001b[38;5;124m'\u001b[39m\u001b[38;5;124mOrder types in the Restaurant\u001b[39m\u001b[38;5;124m'\u001b[39m)\n",
            "\u001b[1;31mAttributeError\u001b[0m: 'numpy.int64' object has no attribute 'plot'"
          ]
        }
      ],
      "source": [
        "Order_type.plot(x='food',y='',kind='pie',autopct='%1.1f%%',figsize=(10,8));\n",
        "plt.title('Order types in the Restaurant');"
      ]
    },
    {
      "cell_type": "markdown",
      "id": "811a338f",
      "metadata": {
        "id": "811a338f"
      },
      "source": [
        "Per the analsysi, it understood that most customers enjoy drinks compared to Meals"
      ]
    },
    {
      "cell_type": "markdown",
      "id": "67168668",
      "metadata": {
        "id": "67168668"
      },
      "source": [
        "##### Does the weather inflence what people order?"
      ]
    },
    {
      "cell_type": "markdown",
      "id": "8c49a63e",
      "metadata": {
        "id": "8c49a63e"
      },
      "source": [
        "filling in null values for te weather"
      ]
    },
    {
      "cell_type": "code",
      "execution_count": null,
      "id": "c1b10976",
      "metadata": {
        "id": "c1b10976",
        "outputId": "70a9a72d-e70a-44ac-8f62-2b33f753e8a5"
      },
      "outputs": [
        {
          "data": {
            "text/plain": [
              "0        non_specified\n",
              "1                Windy\n",
              "2               Stormy\n",
              "3                  Fog\n",
              "4                Sunny\n",
              "             ...      \n",
              "11394            Sunny\n",
              "11395       Sandstorms\n",
              "11396    non_specified\n",
              "11397       Sandstorms\n",
              "11398            Windy\n",
              "Name: Weather, Length: 11399, dtype: object"
            ]
          },
          "execution_count": 19,
          "metadata": {},
          "output_type": "execute_result"
        }
      ],
      "source": [
        "food['Weather']=food['Weather'].fillna('non_specified')\n",
        "food['Weather']"
      ]
    },
    {
      "cell_type": "code",
      "execution_count": null,
      "id": "d10984db",
      "metadata": {
        "id": "d10984db",
        "outputId": "561e8746-c72d-4b65-e9c6-ce8ee4e7ef8b"
      },
      "outputs": [
        {
          "data": {
            "text/plain": [
              "Sunny            1975\n",
              "Windy            1948\n",
              "Sandstorms       1878\n",
              "Cloudy           1861\n",
              "Stormy           1811\n",
              "Fog              1768\n",
              "non_specified     158\n",
              "Name: Weather, dtype: int64"
            ]
          },
          "execution_count": 20,
          "metadata": {},
          "output_type": "execute_result"
        }
      ],
      "source": [
        "weather=food['Weather'].value_counts()\n",
        "weather"
      ]
    },
    {
      "cell_type": "code",
      "execution_count": null,
      "id": "6068d03f",
      "metadata": {
        "id": "6068d03f",
        "outputId": "bf836623-0fd8-42d8-851f-2f1489f3f759"
      },
      "outputs": [
        {
          "data": {
            "image/png": "[encoded data removed]",
            "text/plain": [
              "<Figure size 432x288 with 1 Axes>"
            ]
          },
          "metadata": {},
          "output_type": "display_data"
        }
      ],
      "source": [
        "plt.pie(food['Weather'].value_counts().head(10), \n",
        "        labels=food['Weather'].value_counts().index,autopct='%1.1f%%',\n",
        "        colors=['skyblue', 'orange'],startangle=90\n",
        "        \n",
        "        \n",
        "       );\n"
      ]
    },
    {
      "cell_type": "code",
      "execution_count": null,
      "id": "1fd6103b",
      "metadata": {
        "id": "1fd6103b",
        "outputId": "4789ec89-d44f-44b0-a358-2f9736092f25"
      },
      "outputs": [
        {
          "data": {
            "text/plain": [
              "Type_of_order  Weather   \n",
              "Drinks         Sunny         517\n",
              "               Windy         507\n",
              "Meal           Sunny         498\n",
              "Snack          Cloudy        491\n",
              "               Windy         485\n",
              "Buffet         Sandstorms    485\n",
              "               Windy         482\n",
              "               Sunny         482\n",
              "Drinks         Stormy        481\n",
              "               Fog           478\n",
              "Name: Weather, dtype: int64"
            ]
          },
          "execution_count": 22,
          "metadata": {},
          "output_type": "execute_result"
        }
      ],
      "source": [
        "Order_Weather=food.groupby('Type_of_order')['Weather'].value_counts().sort_values(ascending=False).head(10)\n",
        "Order_Weather"
      ]
    },
    {
      "cell_type": "code",
      "execution_count": null,
      "id": "b42cdd6b",
      "metadata": {
        "id": "b42cdd6b",
        "outputId": "75d5be76-9719-418a-e9e6-01ce725182de"
      },
      "outputs": [
        {
          "data": {
            "image/png": "[encoded data removed]",
            "text/plain": [
              "<Figure size 720x576 with 1 Axes>"
            ]
          },
          "metadata": {},
          "output_type": "display_data"
        }
      ],
      "source": [
        "Order_Weather.plot(x='Order_type',y='Weather',kind='pie',autopct='%1.1f%%',figsize=(10,8));"
      ]
    },
    {
      "cell_type": "markdown",
      "id": "10beaf62",
      "metadata": {
        "id": "10beaf62"
      },
      "source": [
        "From the chart, it shows that most people prefer to have some drinks on sunny days"
      ]
    },
    {
      "cell_type": "markdown",
      "id": "712579e0",
      "metadata": {
        "id": "712579e0"
      },
      "source": [
        "##### What meaans of transportation delievers food faster?"
      ]
    },
    {
      "cell_type": "code",
      "execution_count": null,
      "id": "e154f0d1",
      "metadata": {
        "id": "e154f0d1",
        "outputId": "3a5f8656-5cbf-47b0-c365-72c11334ca3a"
      },
      "outputs": [
        {
          "data": {
            "text/plain": [
              "motorcycle          6609\n",
              "scooter             3817\n",
              "electric_scooter     950\n",
              "bicycle               23\n",
              "Name: Type_of_vehicle, dtype: int64"
            ]
          },
          "execution_count": 24,
          "metadata": {},
          "output_type": "execute_result"
        }
      ],
      "source": [
        "Transportation=food['Type_of_vehicle'].value_counts()\n",
        "Transportation"
      ]
    },
    {
      "cell_type": "code",
      "execution_count": null,
      "id": "9f0e7295",
      "metadata": {
        "id": "9f0e7295",
        "outputId": "b61a1cae-0a2e-4aaf-9a70-2c93e5f54e07"
      },
      "outputs": [
        {
          "data": {
            "image/png": "[encoded data removed]",
            "text/plain": [
              "<Figure size 720x576 with 1 Axes>"
            ]
          },
          "metadata": {
            "needs_background": "light"
          },
          "output_type": "display_data"
        }
      ],
      "source": [
        "Transportation.plot(kind='bar',figsize=(10,8),fontsize=10,title=\"Barchart Representation of Type_of_vehicle\", color=\"blue\");"
      ]
    },
    {
      "cell_type": "markdown",
      "id": "b34d31da",
      "metadata": {
        "id": "b34d31da"
      },
      "source": [
        "From the graph, it is clear that motocycle is the most prefered vehince_type used by the resturant"
      ]
    },
    {
      "cell_type": "markdown",
      "id": "d70c8abb",
      "metadata": {
        "id": "d70c8abb"
      },
      "source": [
        "##### What time do people pick their orders most?"
      ]
    },
    {
      "cell_type": "code",
      "execution_count": null,
      "id": "7bd7467a",
      "metadata": {
        "scrolled": true,
        "id": "7bd7467a",
        "outputId": "8a82a44f-cf99-4677-80c1-4480cab6a35e"
      },
      "outputs": [
        {
          "data": {
            "text/plain": [
              "19:25    133\n",
              "23:35    129\n",
              "18:40    127\n",
              "23:50    125\n",
              "17:45    124\n",
              "22:40    123\n",
              "22:45    121\n",
              "20:55    121\n",
              "20:40    118\n",
              "18:35    118\n",
              "Name: Time_Order_picked, dtype: int64"
            ]
          },
          "execution_count": 26,
          "metadata": {},
          "output_type": "execute_result"
        }
      ],
      "source": [
        "Time_picked=food['Time_Order_picked'].value_counts().head(10)\n",
        "Time_picked"
      ]
    },
    {
      "cell_type": "code",
      "execution_count": null,
      "id": "d1bdad8a",
      "metadata": {
        "id": "d1bdad8a",
        "outputId": "c97e352a-225a-49ab-8fbd-7893a69a6eb9"
      },
      "outputs": [
        {
          "data": {
            "image/png": "[encoded data removed]",
            "text/plain": [
              "<Figure size 720x576 with 1 Axes>"
            ]
          },
          "metadata": {
            "needs_background": "light"
          },
          "output_type": "display_data"
        }
      ],
      "source": [
        "Time_picked.plot(kind='bar',figsize=(10,8),fontsize=10,title=\"Barchart Representation of time people pick their orders\", color=\"green\");"
      ]
    },
    {
      "cell_type": "markdown",
      "id": "7c2ab39e",
      "metadata": {
        "id": "7c2ab39e"
      },
      "source": [
        " From our analsysi, it shows that most people pick their orders at 19:25"
      ]
    },
    {
      "cell_type": "markdown",
      "id": "e4921696",
      "metadata": {
        "id": "e4921696"
      },
      "source": [
        "##### At what time do people make most orders?"
      ]
    },
    {
      "cell_type": "code",
      "execution_count": null,
      "id": "80c33489",
      "metadata": {
        "id": "80c33489",
        "outputId": "3a899893-2408-41df-ced5-8933b911e4f9"
      },
      "outputs": [
        {
          "data": {
            "text/plain": [
              "18:20    123\n",
              "20:55    122\n",
              "23:30    122\n",
              "19:15    120\n",
              "19:20    119\n",
              "18:30    118\n",
              "22:40    118\n",
              "21:45    118\n",
              "23:60    118\n",
              "23:10    117\n",
              "Name: Time_Orderd, dtype: int64"
            ]
          },
          "execution_count": 28,
          "metadata": {},
          "output_type": "execute_result"
        }
      ],
      "source": [
        "Time_orderd=food['Time_Orderd'].value_counts().head(10)\n",
        "Time_orderd"
      ]
    },
    {
      "cell_type": "code",
      "execution_count": null,
      "id": "590ed0b1",
      "metadata": {
        "id": "590ed0b1",
        "outputId": "9cb7997b-6bdc-4596-86c8-c6c1a9658fe9"
      },
      "outputs": [
        {
          "data": {
            "image/png": "[encoded data removed]",
            "text/plain": [
              "<Figure size 720x576 with 1 Axes>"
            ]
          },
          "metadata": {
            "needs_background": "light"
          },
          "output_type": "display_data"
        }
      ],
      "source": [
        "Time_orderd.plot(kind='bar',figsize=(10,8),fontsize=10,title=\"Barchart Representation of time people order their orders\", color=\"blue\");"
      ]
    },
    {
      "cell_type": "markdown",
      "id": "e13e1033",
      "metadata": {
        "id": "e13e1033"
      },
      "source": [
        "##### Which days are the busiest in the restaurant [which days do customers visit the restaurant the most]"
      ]
    },
    {
      "cell_type": "code",
      "execution_count": null,
      "id": "3f379223",
      "metadata": {
        "id": "3f379223",
        "outputId": "dae14bd1-5840-4b9d-a980-e9a49beddf7e"
      },
      "outputs": [
        {
          "data": {
            "text/plain": [
              "Thursday     1887\n",
              "Monday       1868\n",
              "Wednesday    1766\n",
              "Friday       1658\n",
              "Sunday       1521\n",
              "Saturday     1360\n",
              "Tuesday      1339\n",
              "Name: Days, dtype: int64"
            ]
          },
          "execution_count": 30,
          "metadata": {},
          "output_type": "execute_result"
        }
      ],
      "source": [
        "Days=food['Days'].value_counts().head(10)\n",
        "Days"
      ]
    },
    {
      "cell_type": "code",
      "execution_count": null,
      "id": "ce78eba2",
      "metadata": {
        "id": "ce78eba2",
        "outputId": "040a7f69-7c41-440e-f17e-92430c73d4e2"
      },
      "outputs": [
        {
          "data": {
            "image/png": "[encoded data removed]",
            "text/plain": [
              "<Figure size 720x576 with 1 Axes>"
            ]
          },
          "metadata": {},
          "output_type": "display_data"
        }
      ],
      "source": [
        "Days.plot(x='Days',kind='pie',autopct='%1.1f%%',figsize=(10,8));"
      ]
    },
    {
      "cell_type": "markdown",
      "id": "5ce6d1f0",
      "metadata": {
        "id": "5ce6d1f0"
      },
      "source": [
        "From the pie chart, it shows that Thursdays are the most preferred days customers come to the restaurant. It recorded 16.5% in comparison to Tuesday with a lowest percentage of 11.7% . "
      ]
    },
    {
      "cell_type": "markdown",
      "source": [
        "**Which is Delivery_person_ID the most used by the restaurant**"
      ],
      "metadata": {
        "id": "JzSjiIMKdyyS"
      },
      "id": "JzSjiIMKdyyS"
    },
    {
      "cell_type": "code",
      "source": [
        "Delivery=food['Delivery_person_ID'].value_counts().head(20)\n"
      ],
      "metadata": {
        "id": "NLBT_R9Zd2U1"
      },
      "id": "NLBT_R9Zd2U1",
      "execution_count": 57,
      "outputs": []
    },
    {
      "cell_type": "code",
      "source": [
        "Delivery.plot(x='Delivery',kind='pie',autopct='%1.1f%%',figsize=(10,8));"
      ],
      "metadata": {
        "colab": {
          "base_uri": "https://localhost:8080/",
          "height": 466
        },
        "id": "lG1B5CxYfHVk",
        "outputId": "a7fbb461-91b8-4a06-a408-cea6f90875f5"
      },
      "id": "lG1B5CxYfHVk",
      "execution_count": 58,
      "outputs": [
        {
          "output_type": "display_data",
          "data": {
            "text/plain": [
              "<Figure size 720x576 with 1 Axes>"
            ],
            "image/png": "[encoded data removed]"
          },
          "metadata": {}
        }
      ]
    },
    {
      "cell_type": "markdown",
      "source": [
        "From the chart, it seems that top 20 delivery persons are used by the reastaurant with converging frequencies"
      ],
      "metadata": {
        "id": "mf4jnkInfzfF"
      },
      "id": "mf4jnkInfzfF"
    },
    {
      "cell_type": "markdown",
      "source": [
        "**Delivery_person_Age**"
      ],
      "metadata": {
        "id": "F5IUltd4gjTa"
      },
      "id": "F5IUltd4gjTa"
    },
    {
      "cell_type": "code",
      "source": [
        "Age=food['Delivery_person_Age'].value_counts()\n",
        "Age"
      ],
      "metadata": {
        "colab": {
          "base_uri": "https://localhost:8080/"
        },
        "id": "xzcQ88n_glho",
        "outputId": "fdf1b774-9496-4ea6-a625-cf9a4ea3dd7f"
      },
      "id": "xzcQ88n_glho",
      "execution_count": 60,
      "outputs": [
        {
          "output_type": "execute_result",
          "data": {
            "text/plain": [
              "30.0    579\n",
              "28.0    569\n",
              "33.0    556\n",
              "20.0    555\n",
              "38.0    551\n",
              "37.0    549\n",
              "21.0    549\n",
              "29.0    548\n",
              "35.0    547\n",
              "34.0    547\n",
              "32.0    545\n",
              "26.0    545\n",
              "24.0    544\n",
              "27.0    543\n",
              "23.0    541\n",
              "39.0    536\n",
              "31.0    535\n",
              "22.0    522\n",
              "36.0    521\n",
              "25.0    507\n",
              "50.0     10\n",
              "15.0      9\n",
              "Name: Delivery_person_Age, dtype: int64"
            ]
          },
          "metadata": {},
          "execution_count": 60
        }
      ]
    },
    {
      "cell_type": "code",
      "source": [
        "food['Delivery_person_Age'].isnull().sum()"
      ],
      "metadata": {
        "colab": {
          "base_uri": "https://localhost:8080/"
        },
        "id": "k3krze8QhIrk",
        "outputId": "26700d27-91ba-48b6-954a-928094412f17"
      },
      "id": "k3krze8QhIrk",
      "execution_count": 61,
      "outputs": [
        {
          "output_type": "execute_result",
          "data": {
            "text/plain": [
              "491"
            ]
          },
          "metadata": {},
          "execution_count": 61
        }
      ]
    },
    {
      "cell_type": "markdown",
      "source": [
        "we can't drop 491 col, too much"
      ],
      "metadata": {
        "id": "jkIPxDlZiefs"
      },
      "id": "jkIPxDlZiefs"
    },
    {
      "cell_type": "code",
      "source": [
        "Age.plot(kind='bar',figsize=(10,8),fontsize=10,title=\"Barchart Representation of age of the delevery persons\", color=\"red\");"
      ],
      "metadata": {
        "colab": {
          "base_uri": "https://localhost:8080/",
          "height": 511
        },
        "id": "fiKz64zrhynr",
        "outputId": "1321f93b-2a4b-41de-bd92-47a70e46cdd1"
      },
      "id": "fiKz64zrhynr",
      "execution_count": 63,
      "outputs": [
        {
          "output_type": "display_data",
          "data": {
            "text/plain": [
              "<Figure size 720x576 with 1 Axes>"
            ],
            "image/png": "[encoded data removed]"
          },
          "metadata": {
            "needs_background": "light"
          }
        }
      ]
    },
    {
      "cell_type": "markdown",
      "source": [
        "The age of delivery agents is include in the intervall [20, 39], however 491 entries are not specified"
      ],
      "metadata": {
        "id": "9Xea4HRoioKu"
      },
      "id": "9Xea4HRoioKu"
    },
    {
      "cell_type": "markdown",
      "source": [
        "**People who ordered from the restaurant are from which type of city**"
      ],
      "metadata": {
        "id": "F3rE2KHwOhQQ"
      },
      "id": "F3rE2KHwOhQQ"
    },
    {
      "cell_type": "code",
      "source": [
        "food['City'].value_counts()\n",
        "\n"
      ],
      "metadata": {
        "colab": {
          "base_uri": "https://localhost:8080/"
        },
        "id": "sIbmGwidK7UK",
        "outputId": "5020d607-da33-4aff-e4b9-b460d0fb11b9"
      },
      "execution_count": null,
      "outputs": [
        {
          "output_type": "execute_result",
          "data": {
            "text/plain": [
              "Metropolitian    8497\n",
              "Urban            2533\n",
              "Semi-Urban         45\n",
              "Name: City, dtype: int64"
            ]
          },
          "metadata": {},
          "execution_count": 11
        }
      ],
      "id": "sIbmGwidK7UK"
    },
    {
      "cell_type": "code",
      "source": [
        "food['City'].isnull().sum()"
      ],
      "metadata": {
        "colab": {
          "base_uri": "https://localhost:8080/"
        },
        "id": "v-4JOASaMjHC",
        "outputId": "253b76f1-cc3f-4aa9-9902-c00cdbaa0ffc"
      },
      "execution_count": null,
      "outputs": [
        {
          "output_type": "execute_result",
          "data": {
            "text/plain": [
              "324"
            ]
          },
          "metadata": {},
          "execution_count": 12
        }
      ],
      "id": "v-4JOASaMjHC"
    },
    {
      "cell_type": "code",
      "source": [
        "food['City']=food['City'].fillna('non_specified')\n",
        "food['City']"
      ],
      "metadata": {
        "colab": {
          "base_uri": "https://localhost:8080/"
        },
        "id": "mKrqgReYNGxj",
        "outputId": "71528a49-bd24-47f3-a52d-45e54477f2d9"
      },
      "execution_count": null,
      "outputs": [
        {
          "output_type": "execute_result",
          "data": {
            "text/plain": [
              "0        Metropolitian\n",
              "1        Metropolitian\n",
              "2        Metropolitian\n",
              "3        Metropolitian\n",
              "4        Metropolitian\n",
              "             ...      \n",
              "11394    Metropolitian\n",
              "11395    Metropolitian\n",
              "11396    Metropolitian\n",
              "11397    Metropolitian\n",
              "11398            Urban\n",
              "Name: City, Length: 11399, dtype: object"
            ]
          },
          "metadata": {},
          "execution_count": 15
        }
      ],
      "id": "mKrqgReYNGxj"
    },
    {
      "cell_type": "code",
      "source": [
        "food['City'].isnull().sum()"
      ],
      "metadata": {
        "colab": {
          "base_uri": "https://localhost:8080/"
        },
        "id": "0exueWHfNNGk",
        "outputId": "70b29c9c-3514-4540-f412-84784e1a1cd3"
      },
      "execution_count": null,
      "outputs": [
        {
          "output_type": "execute_result",
          "data": {
            "text/plain": [
              "0"
            ]
          },
          "metadata": {},
          "execution_count": 16
        }
      ],
      "id": "0exueWHfNNGk"
    },
    {
      "cell_type": "code",
      "source": [
        "plt.pie(food['City'].value_counts().head(10), \n",
        "        labels=food['City'].value_counts().head().index,autopct='%1.1f%%',\n",
        "        colors=['skyblue', 'orange', 'red', 'green'],startangle=90\n",
        "        \n",
        "        \n",
        "       );\n",
        "plt.legend();"
      ],
      "metadata": {
        "colab": {
          "base_uri": "https://localhost:8080/",
          "height": 248
        },
        "id": "UcECrKz0Mhg_",
        "outputId": "8ba74355-eb26-4944-e9db-9fc9c4baa266"
      },
      "execution_count": null,
      "outputs": [
        {
          "output_type": "display_data",
          "data": {
            "text/plain": [
              "<Figure size 432x288 with 1 Axes>"
            ],
            "image/png": "[encoded data removed]"
          },
          "metadata": {}
        }
      ],
      "id": "UcECrKz0Mhg_"
    },
    {
      "cell_type": "markdown",
      "source": [
        "It is clear from the analysis that most people who order from the restaurant are from metropolitian cities"
      ],
      "metadata": {
        "id": "DT4qZBOqNYWG"
      },
      "id": "DT4qZBOqNYWG"
    },
    {
      "cell_type": "markdown",
      "source": [
        "**Trafic Density**"
      ],
      "metadata": {
        "id": "deH0-W1yPayK"
      },
      "id": "deH0-W1yPayK"
    },
    {
      "cell_type": "code",
      "source": [
        "food.head(10)"
      ],
      "metadata": {
        "colab": {
          "base_uri": "https://localhost:8080/",
          "height": 456
        },
        "id": "pzJKxfyRaZF6",
        "outputId": "f3c9e996-0e36-4f58-dddd-46e223720ef6"
      },
      "id": "pzJKxfyRaZF6",
      "execution_count": 41,
      "outputs": [
        {
          "output_type": "execute_result",
          "data": {
            "text/plain": [
              "       ID Delivery_person_ID  Delivery_person_Age  Delivery_person_Ratings  \\\n",
              "0  0x2318    COIMBRES13DEL01                  NaN                      NaN   \n",
              "1  0x3474     BANGRES15DEL01                 28.0                      4.6   \n",
              "2  0x9420      JAPRES09DEL03                 23.0                      4.5   \n",
              "3  0x72ee      JAPRES07DEL03                 21.0                      4.8   \n",
              "4  0xa759     CHENRES19DEL01                 31.0                      4.6   \n",
              "5  0xc4af      GOARES04DEL01                 26.0                      4.7   \n",
              "6  0x3b9d     BANGRES19DEL02                 23.0                      4.8   \n",
              "7  0xdd42      KOLRES06DEL02                 26.0                      4.8   \n",
              "8  0x872b      MYSRES05DEL03                 35.0                      4.9   \n",
              "9  0x6001      HYDRES04DEL03                 23.0                      4.9   \n",
              "\n",
              "   Restaurant_latitude  Restaurant_longitude  Delivery_location_latitude  \\\n",
              "0            11.003669             76.976494                   11.043669   \n",
              "1            12.975377             77.696664                   13.085377   \n",
              "2            26.911378             75.789034                   27.001378   \n",
              "3            26.766536             75.837333                   26.856536   \n",
              "4            12.986047             80.218114                   13.096047   \n",
              "5            15.569600             73.742294                   15.579600   \n",
              "6            12.914264             77.678400                   12.934264   \n",
              "7            22.533662             88.366217                   22.583662   \n",
              "8            12.323978             76.627961                   12.413978   \n",
              "9            17.411028             78.329645                   17.441028   \n",
              "\n",
              "   Delivery_location_longitude Order_Date Time_Orderd  ... Weather  \\\n",
              "0                    77.016494 2022-03-30         NaN  ...     NaN   \n",
              "1                    77.806664 2022-03-29       20:30  ...   Windy   \n",
              "2                    75.879034 2022-10-03       19:35  ...  Stormy   \n",
              "3                    75.927333 2022-02-04       17:15  ...     Fog   \n",
              "4                    80.328114 2022-03-27       18:25  ...   Sunny   \n",
              "5                    73.752294 2022-02-15        9:45  ...     Fog   \n",
              "6                    77.698400 2022-01-04        9:60  ...   Windy   \n",
              "7                    88.416217 2022-02-13       17:60  ...   Windy   \n",
              "8                    76.717961 2022-02-03       21:30  ...  Cloudy   \n",
              "9                    78.359645 2022-05-04       20:45  ...     Fog   \n",
              "\n",
              "  Road_traffic_density Vehicle_condition  Type_of_order   Type_of_vehicle  \\\n",
              "0        non_specified                 3         Drinks  electric_scooter   \n",
              "1                  Jam                 0          Snack        motorcycle   \n",
              "2                  Jam                 0         Drinks        motorcycle   \n",
              "3               Medium                 1           Meal           scooter   \n",
              "4               Medium                 2         Drinks           scooter   \n",
              "5                  Low                 0         Drinks        motorcycle   \n",
              "6                  Low                 2         Buffet           scooter   \n",
              "7               Medium                 0           Meal        motorcycle   \n",
              "8                  Jam                 2          Snack           scooter   \n",
              "9                  Jam                 1           Meal        motorcycle   \n",
              "\n",
              "  multiple_deliveries  Festival           City   Name:       Days  \n",
              "0                 1.0        No  Metropolitian  object  Wednesday  \n",
              "1                 1.0        No  Metropolitian  object    Tuesday  \n",
              "2                 1.0        No  Metropolitian  object     Monday  \n",
              "3                 1.0        No  Metropolitian  object     Friday  \n",
              "4                 1.0        No  Metropolitian  object     Sunday  \n",
              "5                 1.0        No  Metropolitian  object    Tuesday  \n",
              "6                 0.0        No          Urban  object    Tuesday  \n",
              "7                 1.0        No  Metropolitian  object     Sunday  \n",
              "8                 1.0        No  Metropolitian  object   Thursday  \n",
              "9                 0.0        No  Metropolitian  object  Wednesday  \n",
              "\n",
              "[10 rows x 21 columns]"
            ],
            "text/html": [
              "\n",
              "  <div id=\"df-52cd5c4f-ccd9-4037-9548-d011e1e34af0\">\n",
              "    <div class=\"colab-df-container\">\n",
              "      <div>\n",
              "<style scoped>\n",
              "    .dataframe tbody tr th:only-of-type {\n",
              "        vertical-align: middle;\n",
              "    }\n",
              "\n",
              "    .dataframe tbody tr th {\n",
              "        vertical-align: top;\n",
              "    }\n",
              "\n",
              "    .dataframe thead th {\n",
              "        text-align: right;\n",
              "    }\n",
              "</style>\n",
              "<table border=\"1\" class=\"dataframe\">\n",
              "  <thead>\n",
              "    <tr style=\"text-align: right;\">\n",
              "      <th></th>\n",
              "      <th>ID</th>\n",
              "      <th>Delivery_person_ID</th>\n",
              "      <th>Delivery_person_Age</th>\n",
              "      <th>Delivery_person_Ratings</th>\n",
              "      <th>Restaurant_latitude</th>\n",
              "      <th>Restaurant_longitude</th>\n",
              "      <th>Delivery_location_latitude</th>\n",
              "      <th>Delivery_location_longitude</th>\n",
              "      <th>Order_Date</th>\n",
              "      <th>Time_Orderd</th>\n",
              "      <th>...</th>\n",
              "      <th>Weather</th>\n",
              "      <th>Road_traffic_density</th>\n",
              "      <th>Vehicle_condition</th>\n",
              "      <th>Type_of_order</th>\n",
              "      <th>Type_of_vehicle</th>\n",
              "      <th>multiple_deliveries</th>\n",
              "      <th>Festival</th>\n",
              "      <th>City</th>\n",
              "      <th>Name:</th>\n",
              "      <th>Days</th>\n",
              "    </tr>\n",
              "  </thead>\n",
              "  <tbody>\n",
              "    <tr>\n",
              "      <th>0</th>\n",
              "      <td>0x2318</td>\n",
              "      <td>COIMBRES13DEL01</td>\n",
              "      <td>NaN</td>\n",
              "      <td>NaN</td>\n",
              "      <td>11.003669</td>\n",
              "      <td>76.976494</td>\n",
              "      <td>11.043669</td>\n",
              "      <td>77.016494</td>\n",
              "      <td>2022-03-30</td>\n",
              "      <td>NaN</td>\n",
              "      <td>...</td>\n",
              "      <td>NaN</td>\n",
              "      <td>non_specified</td>\n",
              "      <td>3</td>\n",
              "      <td>Drinks</td>\n",
              "      <td>electric_scooter</td>\n",
              "      <td>1.0</td>\n",
              "      <td>No</td>\n",
              "      <td>Metropolitian</td>\n",
              "      <td>object</td>\n",
              "      <td>Wednesday</td>\n",
              "    </tr>\n",
              "    <tr>\n",
              "      <th>1</th>\n",
              "      <td>0x3474</td>\n",
              "      <td>BANGRES15DEL01</td>\n",
              "      <td>28.0</td>\n",
              "      <td>4.6</td>\n",
              "      <td>12.975377</td>\n",
              "      <td>77.696664</td>\n",
              "      <td>13.085377</td>\n",
              "      <td>77.806664</td>\n",
              "      <td>2022-03-29</td>\n",
              "      <td>20:30</td>\n",
              "      <td>...</td>\n",
              "      <td>Windy</td>\n",
              "      <td>Jam</td>\n",
              "      <td>0</td>\n",
              "      <td>Snack</td>\n",
              "      <td>motorcycle</td>\n",
              "      <td>1.0</td>\n",
              "      <td>No</td>\n",
              "      <td>Metropolitian</td>\n",
              "      <td>object</td>\n",
              "      <td>Tuesday</td>\n",
              "    </tr>\n",
              "    <tr>\n",
              "      <th>2</th>\n",
              "      <td>0x9420</td>\n",
              "      <td>JAPRES09DEL03</td>\n",
              "      <td>23.0</td>\n",
              "      <td>4.5</td>\n",
              "      <td>26.911378</td>\n",
              "      <td>75.789034</td>\n",
              "      <td>27.001378</td>\n",
              "      <td>75.879034</td>\n",
              "      <td>2022-10-03</td>\n",
              "      <td>19:35</td>\n",
              "      <td>...</td>\n",
              "      <td>Stormy</td>\n",
              "      <td>Jam</td>\n",
              "      <td>0</td>\n",
              "      <td>Drinks</td>\n",
              "      <td>motorcycle</td>\n",
              "      <td>1.0</td>\n",
              "      <td>No</td>\n",
              "      <td>Metropolitian</td>\n",
              "      <td>object</td>\n",
              "      <td>Monday</td>\n",
              "    </tr>\n",
              "    <tr>\n",
              "      <th>3</th>\n",
              "      <td>0x72ee</td>\n",
              "      <td>JAPRES07DEL03</td>\n",
              "      <td>21.0</td>\n",
              "      <td>4.8</td>\n",
              "      <td>26.766536</td>\n",
              "      <td>75.837333</td>\n",
              "      <td>26.856536</td>\n",
              "      <td>75.927333</td>\n",
              "      <td>2022-02-04</td>\n",
              "      <td>17:15</td>\n",
              "      <td>...</td>\n",
              "      <td>Fog</td>\n",
              "      <td>Medium</td>\n",
              "      <td>1</td>\n",
              "      <td>Meal</td>\n",
              "      <td>scooter</td>\n",
              "      <td>1.0</td>\n",
              "      <td>No</td>\n",
              "      <td>Metropolitian</td>\n",
              "      <td>object</td>\n",
              "      <td>Friday</td>\n",
              "    </tr>\n",
              "    <tr>\n",
              "      <th>4</th>\n",
              "      <td>0xa759</td>\n",
              "      <td>CHENRES19DEL01</td>\n",
              "      <td>31.0</td>\n",
              "      <td>4.6</td>\n",
              "      <td>12.986047</td>\n",
              "      <td>80.218114</td>\n",
              "      <td>13.096047</td>\n",
              "      <td>80.328114</td>\n",
              "      <td>2022-03-27</td>\n",
              "      <td>18:25</td>\n",
              "      <td>...</td>\n",
              "      <td>Sunny</td>\n",
              "      <td>Medium</td>\n",
              "      <td>2</td>\n",
              "      <td>Drinks</td>\n",
              "      <td>scooter</td>\n",
              "      <td>1.0</td>\n",
              "      <td>No</td>\n",
              "      <td>Metropolitian</td>\n",
              "      <td>object</td>\n",
              "      <td>Sunday</td>\n",
              "    </tr>\n",
              "    <tr>\n",
              "      <th>5</th>\n",
              "      <td>0xc4af</td>\n",
              "      <td>GOARES04DEL01</td>\n",
              "      <td>26.0</td>\n",
              "      <td>4.7</td>\n",
              "      <td>15.569600</td>\n",
              "      <td>73.742294</td>\n",
              "      <td>15.579600</td>\n",
              "      <td>73.752294</td>\n",
              "      <td>2022-02-15</td>\n",
              "      <td>9:45</td>\n",
              "      <td>...</td>\n",
              "      <td>Fog</td>\n",
              "      <td>Low</td>\n",
              "      <td>0</td>\n",
              "      <td>Drinks</td>\n",
              "      <td>motorcycle</td>\n",
              "      <td>1.0</td>\n",
              "      <td>No</td>\n",
              "      <td>Metropolitian</td>\n",
              "      <td>object</td>\n",
              "      <td>Tuesday</td>\n",
              "    </tr>\n",
              "    <tr>\n",
              "      <th>6</th>\n",
              "      <td>0x3b9d</td>\n",
              "      <td>BANGRES19DEL02</td>\n",
              "      <td>23.0</td>\n",
              "      <td>4.8</td>\n",
              "      <td>12.914264</td>\n",
              "      <td>77.678400</td>\n",
              "      <td>12.934264</td>\n",
              "      <td>77.698400</td>\n",
              "      <td>2022-01-04</td>\n",
              "      <td>9:60</td>\n",
              "      <td>...</td>\n",
              "      <td>Windy</td>\n",
              "      <td>Low</td>\n",
              "      <td>2</td>\n",
              "      <td>Buffet</td>\n",
              "      <td>scooter</td>\n",
              "      <td>0.0</td>\n",
              "      <td>No</td>\n",
              "      <td>Urban</td>\n",
              "      <td>object</td>\n",
              "      <td>Tuesday</td>\n",
              "    </tr>\n",
              "    <tr>\n",
              "      <th>7</th>\n",
              "      <td>0xdd42</td>\n",
              "      <td>KOLRES06DEL02</td>\n",
              "      <td>26.0</td>\n",
              "      <td>4.8</td>\n",
              "      <td>22.533662</td>\n",
              "      <td>88.366217</td>\n",
              "      <td>22.583662</td>\n",
              "      <td>88.416217</td>\n",
              "      <td>2022-02-13</td>\n",
              "      <td>17:60</td>\n",
              "      <td>...</td>\n",
              "      <td>Windy</td>\n",
              "      <td>Medium</td>\n",
              "      <td>0</td>\n",
              "      <td>Meal</td>\n",
              "      <td>motorcycle</td>\n",
              "      <td>1.0</td>\n",
              "      <td>No</td>\n",
              "      <td>Metropolitian</td>\n",
              "      <td>object</td>\n",
              "      <td>Sunday</td>\n",
              "    </tr>\n",
              "    <tr>\n",
              "      <th>8</th>\n",
              "      <td>0x872b</td>\n",
              "      <td>MYSRES05DEL03</td>\n",
              "      <td>35.0</td>\n",
              "      <td>4.9</td>\n",
              "      <td>12.323978</td>\n",
              "      <td>76.627961</td>\n",
              "      <td>12.413978</td>\n",
              "      <td>76.717961</td>\n",
              "      <td>2022-02-03</td>\n",
              "      <td>21:30</td>\n",
              "      <td>...</td>\n",
              "      <td>Cloudy</td>\n",
              "      <td>Jam</td>\n",
              "      <td>2</td>\n",
              "      <td>Snack</td>\n",
              "      <td>scooter</td>\n",
              "      <td>1.0</td>\n",
              "      <td>No</td>\n",
              "      <td>Metropolitian</td>\n",
              "      <td>object</td>\n",
              "      <td>Thursday</td>\n",
              "    </tr>\n",
              "    <tr>\n",
              "      <th>9</th>\n",
              "      <td>0x6001</td>\n",
              "      <td>HYDRES04DEL03</td>\n",
              "      <td>23.0</td>\n",
              "      <td>4.9</td>\n",
              "      <td>17.411028</td>\n",
              "      <td>78.329645</td>\n",
              "      <td>17.441028</td>\n",
              "      <td>78.359645</td>\n",
              "      <td>2022-05-04</td>\n",
              "      <td>20:45</td>\n",
              "      <td>...</td>\n",
              "      <td>Fog</td>\n",
              "      <td>Jam</td>\n",
              "      <td>1</td>\n",
              "      <td>Meal</td>\n",
              "      <td>motorcycle</td>\n",
              "      <td>0.0</td>\n",
              "      <td>No</td>\n",
              "      <td>Metropolitian</td>\n",
              "      <td>object</td>\n",
              "      <td>Wednesday</td>\n",
              "    </tr>\n",
              "  </tbody>\n",
              "</table>\n",
              "<p>10 rows × 21 columns</p>\n",
              "</div>\n",
              "      <button class=\"colab-df-convert\" onclick=\"convertToInteractive('df-52cd5c4f-ccd9-4037-9548-d011e1e34af0')\"\n",
              "              title=\"Convert this dataframe to an interactive table.\"\n",
              "              style=\"display:none;\">\n",
              "        \n",
              "  <svg xmlns=\"http://www.w3.org/2000/svg\" height=\"24px\"viewBox=\"0 0 24 24\"\n",
              "       width=\"24px\">\n",
              "    <path d=\"M0 0h24v24H0V0z\" fill=\"none\"/>\n",
              "    <path d=\"M18.56 5.44l.94 2.06.94-2.06 2.06-.94-2.06-.94-.94-2.06-.94 2.06-2.06.94zm-11 1L8.5 8.5l.94-2.06 2.06-.94-2.06-.94L8.5 2.5l-.94 2.06-2.06.94zm10 10l.94 2.06.94-2.06 2.06-.94-2.06-.94-.94-2.06-.94 2.06-2.06.94z\"/><path d=\"M17.41 7.96l-1.37-1.37c-.4-.4-.92-.59-1.43-.59-.52 0-1.04.2-1.43.59L10.3 9.45l-7.72 7.72c-.78.78-.78 2.05 0 2.83L4 21.41c.39.39.9.59 1.41.59.51 0 1.02-.2 1.41-.59l7.78-7.78 2.81-2.81c.8-.78.8-2.07 0-2.86zM5.41 20L4 18.59l7.72-7.72 1.47 1.35L5.41 20z\"/>\n",
              "  </svg>\n",
              "      </button>\n",
              "      \n",
              "  <style>\n",
              "    .colab-df-container {\n",
              "      display:flex;\n",
              "      flex-wrap:wrap;\n",
              "      gap: 12px;\n",
              "    }\n",
              "\n",
              "    .colab-df-convert {\n",
              "      background-color: #E8F0FE;\n",
              "      border: none;\n",
              "      border-radius: 50%;\n",
              "      cursor: pointer;\n",
              "      display: none;\n",
              "      fill: #1967D2;\n",
              "      height: 32px;\n",
              "      padding: 0 0 0 0;\n",
              "      width: 32px;\n",
              "    }\n",
              "\n",
              "    .colab-df-convert:hover {\n",
              "      background-color: #E2EBFA;\n",
              "      box-shadow: 0px 1px 2px rgba(60, 64, 67, 0.3), 0px 1px 3px 1px rgba(60, 64, 67, 0.15);\n",
              "      fill: #174EA6;\n",
              "    }\n",
              "\n",
              "    [theme=dark] .colab-df-convert {\n",
              "      background-color: #3B4455;\n",
              "      fill: #D2E3FC;\n",
              "    }\n",
              "\n",
              "    [theme=dark] .colab-df-convert:hover {\n",
              "      background-color: #434B5C;\n",
              "      box-shadow: 0px 1px 3px 1px rgba(0, 0, 0, 0.15);\n",
              "      filter: drop-shadow(0px 1px 2px rgba(0, 0, 0, 0.3));\n",
              "      fill: #FFFFFF;\n",
              "    }\n",
              "  </style>\n",
              "\n",
              "      <script>\n",
              "        const buttonEl =\n",
              "          document.querySelector('#df-52cd5c4f-ccd9-4037-9548-d011e1e34af0 button.colab-df-convert');\n",
              "        buttonEl.style.display =\n",
              "          google.colab.kernel.accessAllowed ? 'block' : 'none';\n",
              "\n",
              "        async function convertToInteractive(key) {\n",
              "          const element = document.querySelector('#df-52cd5c4f-ccd9-4037-9548-d011e1e34af0');\n",
              "          const dataTable =\n",
              "            await google.colab.kernel.invokeFunction('convertToInteractive',\n",
              "                                                     [key], {});\n",
              "          if (!dataTable) return;\n",
              "\n",
              "          const docLinkHtml = 'Like what you see? Visit the ' +\n",
              "            '<a target=\"_blank\" href=https://colab.research.google.com/notebooks/data_table.ipynb>data table notebook</a>'\n",
              "            + ' to learn more about interactive tables.';\n",
              "          element.innerHTML = '';\n",
              "          dataTable['output_type'] = 'display_data';\n",
              "          await google.colab.output.renderOutput(dataTable, element);\n",
              "          const docLink = document.createElement('div');\n",
              "          docLink.innerHTML = docLinkHtml;\n",
              "          element.appendChild(docLink);\n",
              "        }\n",
              "      </script>\n",
              "    </div>\n",
              "  </div>\n",
              "  "
            ]
          },
          "metadata": {},
          "execution_count": 41
        }
      ]
    },
    {
      "cell_type": "code",
      "source": [
        "food['Time_Orderd'].value_counts()"
      ],
      "metadata": {
        "colab": {
          "base_uri": "https://localhost:8080/"
        },
        "id": "qc-Tvk0rkNje",
        "outputId": "477fed45-968c-40bc-e6aa-2ba3fb6326ce"
      },
      "id": "qc-Tvk0rkNje",
      "execution_count": 64,
      "outputs": [
        {
          "output_type": "execute_result",
          "data": {
            "text/plain": [
              "18:20    123\n",
              "20:55    122\n",
              "23:30    122\n",
              "19:15    120\n",
              "19:20    119\n",
              "        ... \n",
              "13:35     11\n",
              "13:60     11\n",
              "14:60     11\n",
              "12:35     10\n",
              "13:25     10\n",
              "Name: Time_Orderd, Length: 176, dtype: int64"
            ]
          },
          "metadata": {},
          "execution_count": 64
        }
      ]
    },
    {
      "cell_type": "code",
      "source": [
        "food['Road_traffic_density']=food['Road_traffic_density'].fillna('non_specified')\n"
      ],
      "metadata": {
        "id": "0n3hPwIRQZNl"
      },
      "id": "0n3hPwIRQZNl",
      "execution_count": 22,
      "outputs": []
    },
    {
      "cell_type": "code",
      "source": [
        "food['Road_traffic_density'].isnull().sum()"
      ],
      "metadata": {
        "colab": {
          "base_uri": "https://localhost:8080/"
        },
        "id": "QowMMCOZP9p1",
        "outputId": "9431e7a2-b155-4dfe-d354-868d8cbccafb"
      },
      "id": "QowMMCOZP9p1",
      "execution_count": 23,
      "outputs": [
        {
          "output_type": "execute_result",
          "data": {
            "text/plain": [
              "0"
            ]
          },
          "metadata": {},
          "execution_count": 23
        }
      ]
    },
    {
      "cell_type": "code",
      "source": [
        "food['Road_traffic_density'].value_counts()"
      ],
      "metadata": {
        "colab": {
          "base_uri": "https://localhost:8080/"
        },
        "id": "tS0H8OYdPgC0",
        "outputId": "26b1ec7f-b2f4-4574-d7e8-c7b64f4e2fc1"
      },
      "id": "tS0H8OYdPgC0",
      "execution_count": 24,
      "outputs": [
        {
          "output_type": "execute_result",
          "data": {
            "text/plain": [
              "Low              3881\n",
              "Jam              3503\n",
              "Medium           2751\n",
              "High             1110\n",
              "non_specified     154\n",
              "Name: Road_traffic_density, dtype: int64"
            ]
          },
          "metadata": {},
          "execution_count": 24
        }
      ]
    },
    {
      "cell_type": "code",
      "source": [
        "State_traffic_density=food.groupby('Road_traffic_density')['Time_Orderd'].value_counts().sort_values(ascending=False).head(30)\n",
        "State_traffic_density"
      ],
      "metadata": {
        "colab": {
          "base_uri": "https://localhost:8080/"
        },
        "id": "4vjW3tdhQuLF",
        "outputId": "5b9b3e1e-d59e-496a-d875-23b7613a1c6b"
      },
      "id": "4vjW3tdhQuLF",
      "execution_count": 67,
      "outputs": [
        {
          "output_type": "execute_result",
          "data": {
            "text/plain": [
              "Road_traffic_density  Time_Orderd\n",
              "Medium                18:20          123\n",
              "Low                   23:30          122\n",
              "Jam                   20:55          122\n",
              "                      19:15          120\n",
              "                      19:20          119\n",
              "                      21:45          118\n",
              "Low                   23:60          118\n",
              "                      22:40          118\n",
              "Medium                18:30          118\n",
              "Low                   23:10          117\n",
              "Jam                   20:25          116\n",
              "Low                   23:40          116\n",
              "                      22:10          115\n",
              "Medium                18:25          115\n",
              "Jam                   19:10          113\n",
              "                      19:35          113\n",
              "Medium                17:40          112\n",
              "Low                   22:35          112\n",
              "Jam                   21:55          111\n",
              "                      19:60          111\n",
              "Medium                17:35          110\n",
              "Jam                   21:20          110\n",
              "                      20:50          110\n",
              "Medium                17:15          110\n",
              "Low                   22:25          110\n",
              "                      22:30          110\n",
              "                      23:45          110\n",
              "Medium                18:35          109\n",
              "Low                   22:20          109\n",
              "                      23:20          108\n",
              "Name: Time_Orderd, dtype: int64"
            ]
          },
          "metadata": {},
          "execution_count": 67
        }
      ]
    },
    {
      "cell_type": "code",
      "source": [
        "State_traffic_density.plot(x='Road_traffic_density',y='Time_Orderd',kind='bar',figsize=(10,8));"
      ],
      "metadata": {
        "colab": {
          "base_uri": "https://localhost:8080/",
          "height": 570
        },
        "id": "juXiO9leXYc4",
        "outputId": "73012838-5fc1-4783-b974-fb4c3757c76a"
      },
      "id": "juXiO9leXYc4",
      "execution_count": 68,
      "outputs": [
        {
          "output_type": "display_data",
          "data": {
            "text/plain": [
              "<Figure size 720x576 with 1 Axes>"
            ],
            "image/png": "[encoded data removed]"
          },
          "metadata": {
            "needs_background": "light"
          }
        }
      ]
    },
    {
      "cell_type": "markdown",
      "source": [
        "Most of the orders are made after 17h where the trafic density is not high"
      ],
      "metadata": {
        "id": "ceX7Mpe_lSZN"
      },
      "id": "ceX7Mpe_lSZN"
    },
    {
      "cell_type": "markdown",
      "id": "52ad42ac",
      "metadata": {
        "id": "52ad42ac"
      },
      "source": [
        "## Machine learning scenario\n"
      ]
    },
    {
      "cell_type": "code",
      "execution_count": null,
      "id": "3b17f804",
      "metadata": {
        "id": "3b17f804",
        "outputId": "1c0af24a-c096-4de5-9aab-69d1a8544033"
      },
      "outputs": [
        {
          "data": {
            "text/html": [
              "<div>\n",
              "<style scoped>\n",
              "    .dataframe tbody tr th:only-of-type {\n",
              "        vertical-align: middle;\n",
              "    }\n",
              "\n",
              "    .dataframe tbody tr th {\n",
              "        vertical-align: top;\n",
              "    }\n",
              "\n",
              "    .dataframe thead th {\n",
              "        text-align: right;\n",
              "    }\n",
              "</style>\n",
              "<table border=\"1\" class=\"dataframe\">\n",
              "  <thead>\n",
              "    <tr style=\"text-align: right;\">\n",
              "      <th></th>\n",
              "      <th>ID</th>\n",
              "      <th>Delivery_person_ID</th>\n",
              "      <th>Delivery_person_Age</th>\n",
              "      <th>Delivery_person_Ratings</th>\n",
              "      <th>Restaurant_latitude</th>\n",
              "      <th>Restaurant_longitude</th>\n",
              "      <th>Delivery_location_latitude</th>\n",
              "      <th>Delivery_location_longitude</th>\n",
              "      <th>Order_Date</th>\n",
              "      <th>Time_Orderd</th>\n",
              "      <th>...</th>\n",
              "      <th>Vehicle_condition</th>\n",
              "      <th>Type_of_order</th>\n",
              "      <th>Type_of_vehicle</th>\n",
              "      <th>multiple_deliveries</th>\n",
              "      <th>Festival</th>\n",
              "      <th>City</th>\n",
              "      <th>Name:</th>\n",
              "      <th>Days</th>\n",
              "      <th>distance_km</th>\n",
              "      <th>Time_taken</th>\n",
              "    </tr>\n",
              "  </thead>\n",
              "  <tbody>\n",
              "    <tr>\n",
              "      <th>0</th>\n",
              "      <td>0x2318</td>\n",
              "      <td>COIMBRES13DEL01</td>\n",
              "      <td>NaN</td>\n",
              "      <td>NaN</td>\n",
              "      <td>11.003669</td>\n",
              "      <td>76.976494</td>\n",
              "      <td>11.043669</td>\n",
              "      <td>77.016494</td>\n",
              "      <td>2022-03-30</td>\n",
              "      <td>NaN</td>\n",
              "      <td>...</td>\n",
              "      <td>3</td>\n",
              "      <td>Drinks</td>\n",
              "      <td>electric_scooter</td>\n",
              "      <td>1.0</td>\n",
              "      <td>No</td>\n",
              "      <td>Metropolitian</td>\n",
              "      <td>object</td>\n",
              "      <td>Wednesday</td>\n",
              "      <td>6.232373</td>\n",
              "      <td>24.0</td>\n",
              "    </tr>\n",
              "    <tr>\n",
              "      <th>1</th>\n",
              "      <td>0x3474</td>\n",
              "      <td>BANGRES15DEL01</td>\n",
              "      <td>28.0</td>\n",
              "      <td>4.6</td>\n",
              "      <td>12.975377</td>\n",
              "      <td>77.696664</td>\n",
              "      <td>13.085377</td>\n",
              "      <td>77.806664</td>\n",
              "      <td>2022-03-29</td>\n",
              "      <td>20:30</td>\n",
              "      <td>...</td>\n",
              "      <td>0</td>\n",
              "      <td>Snack</td>\n",
              "      <td>motorcycle</td>\n",
              "      <td>1.0</td>\n",
              "      <td>No</td>\n",
              "      <td>Metropolitian</td>\n",
              "      <td>object</td>\n",
              "      <td>Tuesday</td>\n",
              "      <td>17.076617</td>\n",
              "      <td>33.0</td>\n",
              "    </tr>\n",
              "    <tr>\n",
              "      <th>2</th>\n",
              "      <td>0x9420</td>\n",
              "      <td>JAPRES09DEL03</td>\n",
              "      <td>23.0</td>\n",
              "      <td>4.5</td>\n",
              "      <td>26.911378</td>\n",
              "      <td>75.789034</td>\n",
              "      <td>27.001378</td>\n",
              "      <td>75.879034</td>\n",
              "      <td>2022-10-03</td>\n",
              "      <td>19:35</td>\n",
              "      <td>...</td>\n",
              "      <td>0</td>\n",
              "      <td>Drinks</td>\n",
              "      <td>motorcycle</td>\n",
              "      <td>1.0</td>\n",
              "      <td>No</td>\n",
              "      <td>Metropolitian</td>\n",
              "      <td>object</td>\n",
              "      <td>Monday</td>\n",
              "      <td>13.406029</td>\n",
              "      <td>42.0</td>\n",
              "    </tr>\n",
              "    <tr>\n",
              "      <th>3</th>\n",
              "      <td>0x72ee</td>\n",
              "      <td>JAPRES07DEL03</td>\n",
              "      <td>21.0</td>\n",
              "      <td>4.8</td>\n",
              "      <td>26.766536</td>\n",
              "      <td>75.837333</td>\n",
              "      <td>26.856536</td>\n",
              "      <td>75.927333</td>\n",
              "      <td>2022-02-04</td>\n",
              "      <td>17:15</td>\n",
              "      <td>...</td>\n",
              "      <td>1</td>\n",
              "      <td>Meal</td>\n",
              "      <td>scooter</td>\n",
              "      <td>1.0</td>\n",
              "      <td>No</td>\n",
              "      <td>Metropolitian</td>\n",
              "      <td>object</td>\n",
              "      <td>Friday</td>\n",
              "      <td>13.413644</td>\n",
              "      <td>19.0</td>\n",
              "    </tr>\n",
              "    <tr>\n",
              "      <th>4</th>\n",
              "      <td>0xa759</td>\n",
              "      <td>CHENRES19DEL01</td>\n",
              "      <td>31.0</td>\n",
              "      <td>4.6</td>\n",
              "      <td>12.986047</td>\n",
              "      <td>80.218114</td>\n",
              "      <td>13.096047</td>\n",
              "      <td>80.328114</td>\n",
              "      <td>2022-03-27</td>\n",
              "      <td>18:25</td>\n",
              "      <td>...</td>\n",
              "      <td>2</td>\n",
              "      <td>Drinks</td>\n",
              "      <td>scooter</td>\n",
              "      <td>1.0</td>\n",
              "      <td>No</td>\n",
              "      <td>Metropolitian</td>\n",
              "      <td>object</td>\n",
              "      <td>Sunday</td>\n",
              "      <td>17.076259</td>\n",
              "      <td>25.0</td>\n",
              "    </tr>\n",
              "  </tbody>\n",
              "</table>\n",
              "<p>5 rows × 23 columns</p>\n",
              "</div>"
            ],
            "text/plain": [
              "       ID Delivery_person_ID  Delivery_person_Age  Delivery_person_Ratings  \\\n",
              "0  0x2318    COIMBRES13DEL01                  NaN                      NaN   \n",
              "1  0x3474     BANGRES15DEL01                 28.0                      4.6   \n",
              "2  0x9420      JAPRES09DEL03                 23.0                      4.5   \n",
              "3  0x72ee      JAPRES07DEL03                 21.0                      4.8   \n",
              "4  0xa759     CHENRES19DEL01                 31.0                      4.6   \n",
              "\n",
              "   Restaurant_latitude  Restaurant_longitude  Delivery_location_latitude  \\\n",
              "0            11.003669             76.976494                   11.043669   \n",
              "1            12.975377             77.696664                   13.085377   \n",
              "2            26.911378             75.789034                   27.001378   \n",
              "3            26.766536             75.837333                   26.856536   \n",
              "4            12.986047             80.218114                   13.096047   \n",
              "\n",
              "   Delivery_location_longitude Order_Date Time_Orderd  ... Vehicle_condition  \\\n",
              "0                    77.016494 2022-03-30         NaN  ...                 3   \n",
              "1                    77.806664 2022-03-29       20:30  ...                 0   \n",
              "2                    75.879034 2022-10-03       19:35  ...                 0   \n",
              "3                    75.927333 2022-02-04       17:15  ...                 1   \n",
              "4                    80.328114 2022-03-27       18:25  ...                 2   \n",
              "\n",
              "  Type_of_order   Type_of_vehicle  multiple_deliveries Festival  \\\n",
              "0        Drinks  electric_scooter                  1.0       No   \n",
              "1         Snack        motorcycle                  1.0       No   \n",
              "2        Drinks        motorcycle                  1.0       No   \n",
              "3          Meal           scooter                  1.0       No   \n",
              "4        Drinks           scooter                  1.0       No   \n",
              "\n",
              "            City   Name:       Days distance_km Time_taken  \n",
              "0  Metropolitian  object  Wednesday    6.232373       24.0  \n",
              "1  Metropolitian  object    Tuesday   17.076617       33.0  \n",
              "2  Metropolitian  object     Monday   13.406029       42.0  \n",
              "3  Metropolitian  object     Friday   13.413644       19.0  \n",
              "4  Metropolitian  object     Sunday   17.076259       25.0  \n",
              "\n",
              "[5 rows x 23 columns]"
            ]
          },
          "execution_count": 32,
          "metadata": {},
          "output_type": "execute_result"
        }
      ],
      "source": [
        "food.head()"
      ]
    },
    {
      "cell_type": "code",
      "execution_count": null,
      "id": "1b912092",
      "metadata": {
        "id": "1b912092",
        "outputId": "a08810cc-bd0e-4c5d-e15c-d0b568966d9a"
      },
      "outputs": [
        {
          "data": {
            "text/html": [
              "<div>\n",
              "<style scoped>\n",
              "    .dataframe tbody tr th:only-of-type {\n",
              "        vertical-align: middle;\n",
              "    }\n",
              "\n",
              "    .dataframe tbody tr th {\n",
              "        vertical-align: top;\n",
              "    }\n",
              "\n",
              "    .dataframe thead th {\n",
              "        text-align: right;\n",
              "    }\n",
              "</style>\n",
              "<table border=\"1\" class=\"dataframe\">\n",
              "  <thead>\n",
              "    <tr style=\"text-align: right;\">\n",
              "      <th></th>\n",
              "      <th>Type_of_order</th>\n",
              "      <th>Type_of_vehicle</th>\n",
              "      <th>Days</th>\n",
              "      <th>distance_km</th>\n",
              "      <th>Time_taken</th>\n",
              "    </tr>\n",
              "  </thead>\n",
              "  <tbody>\n",
              "    <tr>\n",
              "      <th>0</th>\n",
              "      <td>Drinks</td>\n",
              "      <td>electric_scooter</td>\n",
              "      <td>Wednesday</td>\n",
              "      <td>6.232373</td>\n",
              "      <td>24.0</td>\n",
              "    </tr>\n",
              "    <tr>\n",
              "      <th>1</th>\n",
              "      <td>Snack</td>\n",
              "      <td>motorcycle</td>\n",
              "      <td>Tuesday</td>\n",
              "      <td>17.076617</td>\n",
              "      <td>33.0</td>\n",
              "    </tr>\n",
              "    <tr>\n",
              "      <th>2</th>\n",
              "      <td>Drinks</td>\n",
              "      <td>motorcycle</td>\n",
              "      <td>Monday</td>\n",
              "      <td>13.406029</td>\n",
              "      <td>42.0</td>\n",
              "    </tr>\n",
              "    <tr>\n",
              "      <th>3</th>\n",
              "      <td>Meal</td>\n",
              "      <td>scooter</td>\n",
              "      <td>Friday</td>\n",
              "      <td>13.413644</td>\n",
              "      <td>19.0</td>\n",
              "    </tr>\n",
              "    <tr>\n",
              "      <th>4</th>\n",
              "      <td>Drinks</td>\n",
              "      <td>scooter</td>\n",
              "      <td>Sunday</td>\n",
              "      <td>17.076259</td>\n",
              "      <td>25.0</td>\n",
              "    </tr>\n",
              "    <tr>\n",
              "      <th>5</th>\n",
              "      <td>Drinks</td>\n",
              "      <td>motorcycle</td>\n",
              "      <td>Tuesday</td>\n",
              "      <td>1.543933</td>\n",
              "      <td>14.0</td>\n",
              "    </tr>\n",
              "    <tr>\n",
              "      <th>6</th>\n",
              "      <td>Buffet</td>\n",
              "      <td>scooter</td>\n",
              "      <td>Tuesday</td>\n",
              "      <td>3.105485</td>\n",
              "      <td>29.0</td>\n",
              "    </tr>\n",
              "    <tr>\n",
              "      <th>7</th>\n",
              "      <td>Meal</td>\n",
              "      <td>motorcycle</td>\n",
              "      <td>Sunday</td>\n",
              "      <td>7.567851</td>\n",
              "      <td>22.0</td>\n",
              "    </tr>\n",
              "    <tr>\n",
              "      <th>8</th>\n",
              "      <td>Snack</td>\n",
              "      <td>scooter</td>\n",
              "      <td>Thursday</td>\n",
              "      <td>13.989512</td>\n",
              "      <td>28.0</td>\n",
              "    </tr>\n",
              "    <tr>\n",
              "      <th>9</th>\n",
              "      <td>Meal</td>\n",
              "      <td>motorcycle</td>\n",
              "      <td>Wednesday</td>\n",
              "      <td>4.610614</td>\n",
              "      <td>12.0</td>\n",
              "    </tr>\n",
              "  </tbody>\n",
              "</table>\n",
              "</div>"
            ],
            "text/plain": [
              "  Type_of_order   Type_of_vehicle       Days  distance_km  Time_taken\n",
              "0        Drinks  electric_scooter  Wednesday     6.232373        24.0\n",
              "1         Snack        motorcycle    Tuesday    17.076617        33.0\n",
              "2        Drinks        motorcycle     Monday    13.406029        42.0\n",
              "3          Meal           scooter     Friday    13.413644        19.0\n",
              "4        Drinks           scooter     Sunday    17.076259        25.0\n",
              "5        Drinks        motorcycle    Tuesday     1.543933        14.0\n",
              "6        Buffet           scooter    Tuesday     3.105485        29.0\n",
              "7          Meal        motorcycle     Sunday     7.567851        22.0\n",
              "8         Snack           scooter   Thursday    13.989512        28.0\n",
              "9          Meal        motorcycle  Wednesday     4.610614        12.0"
            ]
          },
          "execution_count": 33,
          "metadata": {},
          "output_type": "execute_result"
        }
      ],
      "source": [
        "food_delivery=food.drop(['ID','Delivery_person_ID','Delivery_person_Age','Delivery_person_Ratings','Weather','Road_traffic_density','Vehicle_condition','multiple_deliveries','Festival','City','Name:','Restaurant_latitude','Restaurant_longitude','Delivery_location_latitude','Delivery_location_longitude','Order_Date','Time_Orderd','Time_Order_picked'],axis='columns')\n",
        "food_delivery.head(10)"
      ]
    },
    {
      "cell_type": "markdown",
      "id": "1ad6d8c8",
      "metadata": {
        "id": "1ad6d8c8"
      },
      "source": [
        "### Converting some columns from words to digit using labelEncoder and fit transform"
      ]
    },
    {
      "cell_type": "code",
      "execution_count": null,
      "id": "7a108306",
      "metadata": {
        "id": "7a108306"
      },
      "outputs": [],
      "source": [
        "from sklearn.preprocessing import LabelEncoder\n",
        "\n",
        "le_Type_of_order=LabelEncoder()\n",
        "le_Type_of_vehicle=LabelEncoder()\n",
        "le_Days=LabelEncoder()"
      ]
    },
    {
      "cell_type": "code",
      "execution_count": null,
      "id": "db9e362a",
      "metadata": {
        "id": "db9e362a"
      },
      "outputs": [],
      "source": [
        "food_delivery['Type_of_order']=le_Type_of_order.fit_transform(food_delivery['Type_of_order'])\n",
        "food_delivery['Type_of_vehicle']=le_Type_of_vehicle.fit_transform(food_delivery['Type_of_vehicle'])\n",
        "food_delivery['Days']=le_Days.fit_transform(food_delivery['Days'])\n"
      ]
    },
    {
      "cell_type": "code",
      "execution_count": null,
      "id": "897afa09",
      "metadata": {
        "id": "897afa09",
        "outputId": "e4670c84-aa2e-4733-d93e-d321530d60f2"
      },
      "outputs": [
        {
          "data": {
            "text/html": [
              "<div>\n",
              "<style scoped>\n",
              "    .dataframe tbody tr th:only-of-type {\n",
              "        vertical-align: middle;\n",
              "    }\n",
              "\n",
              "    .dataframe tbody tr th {\n",
              "        vertical-align: top;\n",
              "    }\n",
              "\n",
              "    .dataframe thead th {\n",
              "        text-align: right;\n",
              "    }\n",
              "</style>\n",
              "<table border=\"1\" class=\"dataframe\">\n",
              "  <thead>\n",
              "    <tr style=\"text-align: right;\">\n",
              "      <th></th>\n",
              "      <th>Type_of_order</th>\n",
              "      <th>Type_of_vehicle</th>\n",
              "      <th>Days</th>\n",
              "      <th>distance_km</th>\n",
              "      <th>Time_taken</th>\n",
              "    </tr>\n",
              "  </thead>\n",
              "  <tbody>\n",
              "    <tr>\n",
              "      <th>0</th>\n",
              "      <td>1</td>\n",
              "      <td>1</td>\n",
              "      <td>6</td>\n",
              "      <td>6.232373</td>\n",
              "      <td>24.0</td>\n",
              "    </tr>\n",
              "    <tr>\n",
              "      <th>1</th>\n",
              "      <td>3</td>\n",
              "      <td>2</td>\n",
              "      <td>5</td>\n",
              "      <td>17.076617</td>\n",
              "      <td>33.0</td>\n",
              "    </tr>\n",
              "    <tr>\n",
              "      <th>2</th>\n",
              "      <td>1</td>\n",
              "      <td>2</td>\n",
              "      <td>1</td>\n",
              "      <td>13.406029</td>\n",
              "      <td>42.0</td>\n",
              "    </tr>\n",
              "    <tr>\n",
              "      <th>3</th>\n",
              "      <td>2</td>\n",
              "      <td>3</td>\n",
              "      <td>0</td>\n",
              "      <td>13.413644</td>\n",
              "      <td>19.0</td>\n",
              "    </tr>\n",
              "    <tr>\n",
              "      <th>4</th>\n",
              "      <td>1</td>\n",
              "      <td>3</td>\n",
              "      <td>3</td>\n",
              "      <td>17.076259</td>\n",
              "      <td>25.0</td>\n",
              "    </tr>\n",
              "    <tr>\n",
              "      <th>...</th>\n",
              "      <td>...</td>\n",
              "      <td>...</td>\n",
              "      <td>...</td>\n",
              "      <td>...</td>\n",
              "      <td>...</td>\n",
              "    </tr>\n",
              "    <tr>\n",
              "      <th>11394</th>\n",
              "      <td>3</td>\n",
              "      <td>3</td>\n",
              "      <td>3</td>\n",
              "      <td>16.384901</td>\n",
              "      <td>NaN</td>\n",
              "    </tr>\n",
              "    <tr>\n",
              "      <th>11395</th>\n",
              "      <td>1</td>\n",
              "      <td>3</td>\n",
              "      <td>4</td>\n",
              "      <td>1.489842</td>\n",
              "      <td>NaN</td>\n",
              "    </tr>\n",
              "    <tr>\n",
              "      <th>11396</th>\n",
              "      <td>1</td>\n",
              "      <td>3</td>\n",
              "      <td>4</td>\n",
              "      <td>9.121874</td>\n",
              "      <td>NaN</td>\n",
              "    </tr>\n",
              "    <tr>\n",
              "      <th>11397</th>\n",
              "      <td>2</td>\n",
              "      <td>2</td>\n",
              "      <td>0</td>\n",
              "      <td>19.687777</td>\n",
              "      <td>NaN</td>\n",
              "    </tr>\n",
              "    <tr>\n",
              "      <th>11398</th>\n",
              "      <td>1</td>\n",
              "      <td>2</td>\n",
              "      <td>4</td>\n",
              "      <td>7.760928</td>\n",
              "      <td>NaN</td>\n",
              "    </tr>\n",
              "  </tbody>\n",
              "</table>\n",
              "<p>11399 rows × 5 columns</p>\n",
              "</div>"
            ],
            "text/plain": [
              "       Type_of_order  Type_of_vehicle  Days  distance_km  Time_taken\n",
              "0                  1                1     6     6.232373        24.0\n",
              "1                  3                2     5    17.076617        33.0\n",
              "2                  1                2     1    13.406029        42.0\n",
              "3                  2                3     0    13.413644        19.0\n",
              "4                  1                3     3    17.076259        25.0\n",
              "...              ...              ...   ...          ...         ...\n",
              "11394              3                3     3    16.384901         NaN\n",
              "11395              1                3     4     1.489842         NaN\n",
              "11396              1                3     4     9.121874         NaN\n",
              "11397              2                2     0    19.687777         NaN\n",
              "11398              1                2     4     7.760928         NaN\n",
              "\n",
              "[11399 rows x 5 columns]"
            ]
          },
          "execution_count": 52,
          "metadata": {},
          "output_type": "execute_result"
        }
      ],
      "source": [
        "food_delivery"
      ]
    },
    {
      "cell_type": "markdown",
      "id": "a472b143",
      "metadata": {
        "id": "a472b143"
      },
      "source": [
        "checking and filling null values in Time_taken column"
      ]
    },
    {
      "cell_type": "code",
      "execution_count": null,
      "id": "036bcfd3",
      "metadata": {
        "id": "036bcfd3"
      },
      "outputs": [],
      "source": [
        "import math"
      ]
    },
    {
      "cell_type": "code",
      "execution_count": null,
      "id": "d5a6b47e",
      "metadata": {
        "id": "d5a6b47e",
        "outputId": "80d37d99-0005-4a81-8ec7-b00ccd7b84c1"
      },
      "outputs": [
        {
          "data": {
            "text/plain": [
              "26"
            ]
          },
          "execution_count": 54,
          "metadata": {},
          "output_type": "execute_result"
        }
      ],
      "source": [
        "inputs=math.floor(food_delivery['Time_taken'].median())\n",
        "inputs"
      ]
    },
    {
      "cell_type": "code",
      "execution_count": null,
      "id": "5c66cc08",
      "metadata": {
        "id": "5c66cc08",
        "outputId": "c09d6790-f7f4-4dfc-f32d-a82898a427ed"
      },
      "outputs": [
        {
          "data": {
            "text/html": [
              "<div>\n",
              "<style scoped>\n",
              "    .dataframe tbody tr th:only-of-type {\n",
              "        vertical-align: middle;\n",
              "    }\n",
              "\n",
              "    .dataframe tbody tr th {\n",
              "        vertical-align: top;\n",
              "    }\n",
              "\n",
              "    .dataframe thead th {\n",
              "        text-align: right;\n",
              "    }\n",
              "</style>\n",
              "<table border=\"1\" class=\"dataframe\">\n",
              "  <thead>\n",
              "    <tr style=\"text-align: right;\">\n",
              "      <th></th>\n",
              "      <th>Type_of_order</th>\n",
              "      <th>Type_of_vehicle</th>\n",
              "      <th>Days</th>\n",
              "      <th>distance_km</th>\n",
              "      <th>Time_taken</th>\n",
              "    </tr>\n",
              "  </thead>\n",
              "  <tbody>\n",
              "    <tr>\n",
              "      <th>0</th>\n",
              "      <td>1</td>\n",
              "      <td>1</td>\n",
              "      <td>6</td>\n",
              "      <td>6.232373</td>\n",
              "      <td>24.0</td>\n",
              "    </tr>\n",
              "    <tr>\n",
              "      <th>1</th>\n",
              "      <td>3</td>\n",
              "      <td>2</td>\n",
              "      <td>5</td>\n",
              "      <td>17.076617</td>\n",
              "      <td>33.0</td>\n",
              "    </tr>\n",
              "    <tr>\n",
              "      <th>2</th>\n",
              "      <td>1</td>\n",
              "      <td>2</td>\n",
              "      <td>1</td>\n",
              "      <td>13.406029</td>\n",
              "      <td>42.0</td>\n",
              "    </tr>\n",
              "    <tr>\n",
              "      <th>3</th>\n",
              "      <td>2</td>\n",
              "      <td>3</td>\n",
              "      <td>0</td>\n",
              "      <td>13.413644</td>\n",
              "      <td>19.0</td>\n",
              "    </tr>\n",
              "    <tr>\n",
              "      <th>4</th>\n",
              "      <td>1</td>\n",
              "      <td>3</td>\n",
              "      <td>3</td>\n",
              "      <td>17.076259</td>\n",
              "      <td>25.0</td>\n",
              "    </tr>\n",
              "    <tr>\n",
              "      <th>5</th>\n",
              "      <td>1</td>\n",
              "      <td>2</td>\n",
              "      <td>5</td>\n",
              "      <td>1.543933</td>\n",
              "      <td>14.0</td>\n",
              "    </tr>\n",
              "    <tr>\n",
              "      <th>6</th>\n",
              "      <td>0</td>\n",
              "      <td>3</td>\n",
              "      <td>5</td>\n",
              "      <td>3.105485</td>\n",
              "      <td>29.0</td>\n",
              "    </tr>\n",
              "    <tr>\n",
              "      <th>7</th>\n",
              "      <td>2</td>\n",
              "      <td>2</td>\n",
              "      <td>3</td>\n",
              "      <td>7.567851</td>\n",
              "      <td>22.0</td>\n",
              "    </tr>\n",
              "    <tr>\n",
              "      <th>8</th>\n",
              "      <td>3</td>\n",
              "      <td>3</td>\n",
              "      <td>4</td>\n",
              "      <td>13.989512</td>\n",
              "      <td>28.0</td>\n",
              "    </tr>\n",
              "    <tr>\n",
              "      <th>9</th>\n",
              "      <td>2</td>\n",
              "      <td>2</td>\n",
              "      <td>6</td>\n",
              "      <td>4.610614</td>\n",
              "      <td>12.0</td>\n",
              "    </tr>\n",
              "  </tbody>\n",
              "</table>\n",
              "</div>"
            ],
            "text/plain": [
              "   Type_of_order  Type_of_vehicle  Days  distance_km  Time_taken\n",
              "0              1                1     6     6.232373        24.0\n",
              "1              3                2     5    17.076617        33.0\n",
              "2              1                2     1    13.406029        42.0\n",
              "3              2                3     0    13.413644        19.0\n",
              "4              1                3     3    17.076259        25.0\n",
              "5              1                2     5     1.543933        14.0\n",
              "6              0                3     5     3.105485        29.0\n",
              "7              2                2     3     7.567851        22.0\n",
              "8              3                3     4    13.989512        28.0\n",
              "9              2                2     6     4.610614        12.0"
            ]
          },
          "execution_count": 61,
          "metadata": {},
          "output_type": "execute_result"
        }
      ],
      "source": [
        "input=food_delivery.fillna(inputs)\n",
        "input.head(10)"
      ]
    },
    {
      "cell_type": "code",
      "execution_count": null,
      "id": "3654e39e",
      "metadata": {
        "id": "3654e39e",
        "outputId": "46efc7d5-edf4-412b-fc3b-ad8fcc830dd7"
      },
      "outputs": [
        {
          "data": {
            "text/plain": [
              "Type_of_order      0\n",
              "Type_of_vehicle    0\n",
              "Days               0\n",
              "distance_km        0\n",
              "Time_taken         0\n",
              "dtype: int64"
            ]
          },
          "execution_count": 56,
          "metadata": {},
          "output_type": "execute_result"
        }
      ],
      "source": [
        "input.isnull().sum()"
      ]
    },
    {
      "cell_type": "markdown",
      "id": "a4038c85",
      "metadata": {
        "id": "a4038c85"
      },
      "source": [
        "Dropping out the target variable"
      ]
    },
    {
      "cell_type": "code",
      "execution_count": null,
      "id": "e8837721",
      "metadata": {
        "id": "e8837721",
        "outputId": "b046920b-d02f-4155-d28b-1f70827127ce"
      },
      "outputs": [
        {
          "data": {
            "text/plain": [
              "0        24.0\n",
              "1        33.0\n",
              "2        42.0\n",
              "3        19.0\n",
              "4        25.0\n",
              "         ... \n",
              "11394    26.0\n",
              "11395    26.0\n",
              "11396    26.0\n",
              "11397    26.0\n",
              "11398    26.0\n",
              "Name: Time_taken, Length: 11399, dtype: float64"
            ]
          },
          "execution_count": 57,
          "metadata": {},
          "output_type": "execute_result"
        }
      ],
      "source": [
        "inputs=input.drop(['Time_taken'],axis='columns')\n",
        "target=input['Time_taken']\n",
        "target"
      ]
    },
    {
      "cell_type": "code",
      "execution_count": null,
      "id": "638ac83d",
      "metadata": {
        "id": "638ac83d",
        "outputId": "c45b7997-b5b3-4081-f1bd-871f1db7745a"
      },
      "outputs": [
        {
          "data": {
            "text/html": [
              "<div>\n",
              "<style scoped>\n",
              "    .dataframe tbody tr th:only-of-type {\n",
              "        vertical-align: middle;\n",
              "    }\n",
              "\n",
              "    .dataframe tbody tr th {\n",
              "        vertical-align: top;\n",
              "    }\n",
              "\n",
              "    .dataframe thead th {\n",
              "        text-align: right;\n",
              "    }\n",
              "</style>\n",
              "<table border=\"1\" class=\"dataframe\">\n",
              "  <thead>\n",
              "    <tr style=\"text-align: right;\">\n",
              "      <th></th>\n",
              "      <th>Type_of_order</th>\n",
              "      <th>Type_of_vehicle</th>\n",
              "      <th>Days</th>\n",
              "      <th>distance_km</th>\n",
              "    </tr>\n",
              "  </thead>\n",
              "  <tbody>\n",
              "    <tr>\n",
              "      <th>0</th>\n",
              "      <td>1</td>\n",
              "      <td>1</td>\n",
              "      <td>6</td>\n",
              "      <td>6.232373</td>\n",
              "    </tr>\n",
              "    <tr>\n",
              "      <th>1</th>\n",
              "      <td>3</td>\n",
              "      <td>2</td>\n",
              "      <td>5</td>\n",
              "      <td>17.076617</td>\n",
              "    </tr>\n",
              "    <tr>\n",
              "      <th>2</th>\n",
              "      <td>1</td>\n",
              "      <td>2</td>\n",
              "      <td>1</td>\n",
              "      <td>13.406029</td>\n",
              "    </tr>\n",
              "    <tr>\n",
              "      <th>3</th>\n",
              "      <td>2</td>\n",
              "      <td>3</td>\n",
              "      <td>0</td>\n",
              "      <td>13.413644</td>\n",
              "    </tr>\n",
              "    <tr>\n",
              "      <th>4</th>\n",
              "      <td>1</td>\n",
              "      <td>3</td>\n",
              "      <td>3</td>\n",
              "      <td>17.076259</td>\n",
              "    </tr>\n",
              "    <tr>\n",
              "      <th>...</th>\n",
              "      <td>...</td>\n",
              "      <td>...</td>\n",
              "      <td>...</td>\n",
              "      <td>...</td>\n",
              "    </tr>\n",
              "    <tr>\n",
              "      <th>11394</th>\n",
              "      <td>3</td>\n",
              "      <td>3</td>\n",
              "      <td>3</td>\n",
              "      <td>16.384901</td>\n",
              "    </tr>\n",
              "    <tr>\n",
              "      <th>11395</th>\n",
              "      <td>1</td>\n",
              "      <td>3</td>\n",
              "      <td>4</td>\n",
              "      <td>1.489842</td>\n",
              "    </tr>\n",
              "    <tr>\n",
              "      <th>11396</th>\n",
              "      <td>1</td>\n",
              "      <td>3</td>\n",
              "      <td>4</td>\n",
              "      <td>9.121874</td>\n",
              "    </tr>\n",
              "    <tr>\n",
              "      <th>11397</th>\n",
              "      <td>2</td>\n",
              "      <td>2</td>\n",
              "      <td>0</td>\n",
              "      <td>19.687777</td>\n",
              "    </tr>\n",
              "    <tr>\n",
              "      <th>11398</th>\n",
              "      <td>1</td>\n",
              "      <td>2</td>\n",
              "      <td>4</td>\n",
              "      <td>7.760928</td>\n",
              "    </tr>\n",
              "  </tbody>\n",
              "</table>\n",
              "<p>11399 rows × 4 columns</p>\n",
              "</div>"
            ],
            "text/plain": [
              "       Type_of_order  Type_of_vehicle  Days  distance_km\n",
              "0                  1                1     6     6.232373\n",
              "1                  3                2     5    17.076617\n",
              "2                  1                2     1    13.406029\n",
              "3                  2                3     0    13.413644\n",
              "4                  1                3     3    17.076259\n",
              "...              ...              ...   ...          ...\n",
              "11394              3                3     3    16.384901\n",
              "11395              1                3     4     1.489842\n",
              "11396              1                3     4     9.121874\n",
              "11397              2                2     0    19.687777\n",
              "11398              1                2     4     7.760928\n",
              "\n",
              "[11399 rows x 4 columns]"
            ]
          },
          "execution_count": 63,
          "metadata": {},
          "output_type": "execute_result"
        }
      ],
      "source": [
        "inputs"
      ]
    },
    {
      "cell_type": "code",
      "execution_count": null,
      "id": "d11e8c06",
      "metadata": {
        "id": "d11e8c06"
      },
      "outputs": [],
      "source": [
        "from sklearn import tree\n",
        "model=tree.DecisionTreeClassifier()\n"
      ]
    },
    {
      "cell_type": "code",
      "execution_count": null,
      "id": "962c83fe",
      "metadata": {
        "id": "962c83fe",
        "outputId": "f82f5376-15f4-440f-ad61-3120d3e77fac"
      },
      "outputs": [
        {
          "data": {
            "text/plain": [
              "DecisionTreeClassifier()"
            ]
          },
          "execution_count": 66,
          "metadata": {},
          "output_type": "execute_result"
        }
      ],
      "source": [
        "model.fit(inputs,target)"
      ]
    },
    {
      "cell_type": "markdown",
      "id": "5176b2b0",
      "metadata": {
        "id": "5176b2b0"
      },
      "source": [
        "##### Mrs Ndidi ordered meals at the amazon restaurant on Thursday morning. Predict how long before she received her order if the delivery man used motorcycle bearing in mind that the customer  stays 9.760928 km away from the restaurant."
      ]
    },
    {
      "cell_type": "code",
      "execution_count": null,
      "id": "89710736",
      "metadata": {
        "id": "89710736",
        "outputId": "f4803861-6ccd-49c6-d78c-a7c2ce00bec4"
      },
      "outputs": [
        {
          "name": "stderr",
          "output_type": "stream",
          "text": [
            "C:\\Users\\juliy\\anaconda3\\lib\\site-packages\\sklearn\\base.py:450: UserWarning: X does not have valid feature names, but DecisionTreeClassifier was fitted with feature names\n",
            "  warnings.warn(\n"
          ]
        },
        {
          "data": {
            "text/plain": [
              "array([26.])"
            ]
          },
          "execution_count": 67,
          "metadata": {},
          "output_type": "execute_result"
        }
      ],
      "source": [
        "model.predict([[2,4,5,9.760928 ]])"
      ]
    },
    {
      "cell_type": "markdown",
      "id": "41c6e4d6",
      "metadata": {
        "id": "41c6e4d6"
      },
      "source": [
        "According to our analysis, it indicates that the customer will receive her order in 26 minutes"
      ]
    },
    {
      "cell_type": "code",
      "execution_count": null,
      "id": "6c9e4835",
      "metadata": {
        "id": "6c9e4835",
        "outputId": "ea4e2aa3-6785-4e6e-9f9a-e71625126de7"
      },
      "outputs": [
        {
          "data": {
            "text/plain": [
              "0.9840336871655408"
            ]
          },
          "execution_count": 68,
          "metadata": {},
          "output_type": "execute_result"
        }
      ],
      "source": [
        "model.score(inputs,target)"
      ]
    },
    {
      "cell_type": "markdown",
      "id": "06c58a84",
      "metadata": {
        "id": "06c58a84"
      },
      "source": [
        "Our model shows an accuracy score of 98%"
      ]
    },
    {
      "cell_type": "code",
      "execution_count": null,
      "id": "861fbc9b",
      "metadata": {
        "id": "861fbc9b"
      },
      "outputs": [],
      "source": []
    }
  ],
  "metadata": {
    "kernelspec": {
      "display_name": "Python 3 (ipykernel)",
      "language": "python",
      "name": "python3"
    },
    "language_info": {
      "codemirror_mode": {
        "name": "ipython",
        "version": 3
      },
      "file_extension": ".py",
      "mimetype": "text/x-python",
      "name": "python",
      "nbconvert_exporter": "python",
      "pygments_lexer": "ipython3",
      "version": "3.9.12"
    },
    "colab": {
      "provenance": []
    }
  },
  "nbformat": 4,
  "nbformat_minor": 5
}